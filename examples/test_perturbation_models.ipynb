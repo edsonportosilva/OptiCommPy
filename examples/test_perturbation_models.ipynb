{
 "cells": [
  {
   "cell_type": "markdown",
   "id": "b3c80e4f",
   "metadata": {
    "toc": true
   },
   "source": [
    "<h1>Table of Contents<span class=\"tocSkip\"></span></h1>\n",
    "<div class=\"toc\"><ul class=\"toc-item\"></ul></div>"
   ]
  },
  {
   "cell_type": "code",
   "execution_count": 48,
   "id": "0cac2155",
   "metadata": {
    "ExecuteTime": {
     "end_time": "2025-04-26T19:36:51.530802Z",
     "start_time": "2025-04-26T19:36:45.517179Z"
    }
   },
   "outputs": [],
   "source": [
    "from dataclasses import dataclass\n",
    "import numpy as np\n",
    "from scipy.constants import c as c_light\n",
    "from scipy.integrate import quad\n",
    "from scipy.special import exp1, expi, gammaincc\n",
    "from scipy.special import comb\n",
    "import logging\n",
    "import matplotlib.pyplot as plt\n",
    "\n",
    "from optic.comm.modulation import modulateGray, demodulateGray, grayMapping, detector\n",
    "from optic.comm.metrics import fastBERcalc, theoryBER\n",
    "from optic.models.channels import awgn\n",
    "from optic.dsp.core import pnorm, signal_power\n",
    "from optic.plot import pconst, plotDecisionBoundaries, randomCmap, plotColoredConst\n",
    "from optic.utils import dB2lin"
   ]
  },
  {
   "cell_type": "code",
   "execution_count": 78,
   "id": "51623f83",
   "metadata": {
    "ExecuteTime": {
     "end_time": "2025-04-26T19:48:30.218770Z",
     "start_time": "2025-04-26T19:48:30.180332Z"
    }
   },
   "outputs": [],
   "source": [
    "@dataclass\n",
    "class PertCoeffParams:\n",
    "    alpha: float           # Attenuation [dB/km]\n",
    "    D: float               # Dispersion [ps/(nm.km)]\n",
    "    Fc: float              # CArrier Frequency [nm]\n",
    "    lspan: float           # Span length [km]\n",
    "    length: float          # Total link length [km]\n",
    "    matrixOrder: int       # Matrix order\n",
    "    pulseWidth: float      # Pulse width [s]\n",
    "    symbolPeriod: float    # Symbol period [s]\n",
    "    gamma: float           # Nonlinear coefficient [1/(W.km)]\n",
    "    powerWeighted: bool    # Use power weighted calculation?\n",
    "    powerWeightN: int = 3  # Order of power weighting (default = 3)\n",
    "\n",
    "def pert_coeff_matrix(param: PertCoeffParams):\n",
    "    # Setup logging\n",
    "    logging.basicConfig(level=logging.INFO)\n",
    "    log = logging.getLogger()\n",
    "    c_kms = c_light / 1e3\n",
    "    \n",
    "    # Link parameters\n",
    "    λ = c_kms/param.Fc\n",
    "    alpha = param.alpha / (10 * np.log10(np.e))\n",
    "    beta2 = -param.D * λ**2 / (2 * np.pi * c_kms)\n",
    "    Leff = (1 - np.exp(-alpha * param.lspan)) / alpha\n",
    "    nSpans = int(param.length / param.lspan)\n",
    "\n",
    "    # Matrix indices\n",
    "    m_vals = np.arange(-param.matrixOrder, param.matrixOrder + 1)\n",
    "    M, N = np.meshgrid(m_vals, m_vals[::-1])\n",
    "\n",
    "    # Calculate C_ispm\n",
    "    constantIntegral = param.pulseWidth**4 / (3 * beta2**2)\n",
    "    fun1 = lambda z, c: 1.0 / np.sqrt(c + z**2)\n",
    "    C_ispm, _ = quad(lambda z: fun1(z, constantIntegral), 0, param.length)\n",
    "\n",
    "    # Calculate C_ifwm\n",
    "    if param.powerWeighted:\n",
    "        Acoeff = M * N * param.symbolPeriod**2 / beta2\n",
    "        sum1 = np.zeros_like(M, dtype=complex)\n",
    "        Norder = param.powerWeightN\n",
    "\n",
    "        log.info('Calculating matrix of perturbation coefficients (power-weighted)...')\n",
    "        for indSpan in range(1, nSpans + 1):\n",
    "            Bcoeff = -Norder / (alpha * Acoeff) + ((indSpan - 1) * param.lspan) / Acoeff\n",
    "\n",
    "            sum2 = np.zeros_like(M, dtype=complex)\n",
    "            for kk in range(1, Norder + 1):\n",
    "                if indSpan != 1:\n",
    "                    GammaPrevious = gammaincc(1 - kk, 1j * (1 / Bcoeff - Acoeff / ((indSpan - 1) * param.lspan)))\n",
    "                else:\n",
    "                    GammaPrevious = np.zeros_like(M, dtype=complex)\n",
    "                GammaNext = gammaincc(1 - kk, 1j * (1 / Bcoeff - Acoeff / (indSpan * param.lspan)))\n",
    "\n",
    "                term = (-1)**(kk + Norder) * comb(Norder - 1, kk - 1) * (1j / Bcoeff)**kk * (GammaPrevious - GammaNext)\n",
    "\n",
    "                if kk == 1:\n",
    "                    sum2 = term\n",
    "                else:\n",
    "                    sum2 += term\n",
    "\n",
    "            if indSpan == 1:\n",
    "                sum1 = (np.exp(1j / Bcoeff) / Bcoeff**(Norder - 1)) * sum2\n",
    "            else:\n",
    "                sum1 += (np.exp(1j / Bcoeff) / Bcoeff**(Norder - 1)) * sum2\n",
    "\n",
    "        C_ifwm = (Norder / alpha)**Norder * (Acoeff**-Norder) * sum1\n",
    "    else:\n",
    "        log.info('Calculating matrix of perturbation coefficients (standard)...')\n",
    "        C_ifwm = exp1(-1j * M * N * param.symbolPeriod**2 / (beta2 * param.length))\n",
    "\n",
    "    # Calculate C_ixpm\n",
    "    C_ixpm = 0.5 * exp1((N - M)**2 * param.symbolPeriod**2 * param.pulseWidth**2 / (3 * np.abs(beta2)**2 * param.length**2))\n",
    "     \n",
    "    # Handle inf and nan values\n",
    "    if param.powerWeighted:\n",
    "        C_ifwm_mask = np.isnan(np.abs(C_ifwm)).astype(float)\n",
    "        C_ifwm[np.isnan(np.abs(C_ifwm))] = 0\n",
    "    else:\n",
    "        C_ifwm_mask = np.isinf(np.abs(C_ifwm)).astype(float)\n",
    "        C_ifwm[np.isinf(np.abs(C_ifwm))] = 0\n",
    "\n",
    "    C_ixpm[np.isinf(np.abs(C_ixpm))] = 0\n",
    "    C_ixpm = C_ifwm_mask * C_ixpm\n",
    "\n",
    "    # Scale the matrices\n",
    "    scale_factor = 1j * (8/9) * param.gamma * param.pulseWidth**2 / (np.sqrt(3) * np.abs(beta2)) * Leff / param.lspan\n",
    "    if param.powerWeighted:\n",
    "        C_ifwm = -(8/9) * param.gamma * param.pulseWidth**2 / (np.sqrt(3) * beta2) * C_ifwm\n",
    "        C_ixpm = scale_factor * C_ixpm\n",
    "        C_ispm = scale_factor * C_ispm\n",
    "    else:\n",
    "        C_ifwm = scale_factor * C_ifwm\n",
    "        C_ixpm = scale_factor * C_ixpm\n",
    "        C_ispm = scale_factor * C_ispm\n",
    "\n",
    "    # Combine results\n",
    "    C = C_ifwm + C_ixpm\n",
    "    C[param.matrixOrder, param.matrixOrder] = C_ispm\n",
    "\n",
    "    log.info('Matrix of perturbation coefficients calculated. Dimensions: %d x %d', 2 * param.matrixOrder + 1, 2 * param.matrixOrder + 1)\n",
    "\n",
    "    return C, C_ifwm, C_ixpm, C_ispm\n",
    "\n",
    "def additive_multiplicative_model_nlin_waveform(C_ifwm, C_ixpm, C_ispm, x, y):\n",
    "    # Definitions\n",
    "    L = (len(C_ifwm) - 1) // 2\n",
    "    D = len(C_ifwm) - 1\n",
    "\n",
    "    C = C_ifwm + C_ixpm\n",
    "    C[D, D] = C_ispm\n",
    "    C_m_non_equal_zero = C.copy()\n",
    "    C_m_non_equal_zero[:, L] = np.zeros(D+1)\n",
    "\n",
    "    C_ixpm_mask1 = C_ixpm * np.isinf(1.0 / C_m_non_equal_zero.T)\n",
    "    C_ixpm_mask2 = C_ixpm * np.isinf(1.0 / C_m_non_equal_zero)\n",
    "\n",
    "    # Normalize power to 1\n",
    "    x = norm_power(x)\n",
    "    y = norm_power(y)\n",
    "\n",
    "    # Variable initializations\n",
    "    dx = np.zeros(len(x), dtype=complex)\n",
    "    dy = np.zeros(len(y), dtype=complex)\n",
    "    phi_ixpm_x = np.zeros(len(x))\n",
    "    phi_ixpm_y = np.zeros(len(y))\n",
    "\n",
    "    symbX = np.concatenate((np.zeros(D, dtype=complex), x, np.zeros(D, dtype=complex)))\n",
    "    symbY = np.concatenate((np.zeros(D, dtype=complex), y, np.zeros(D, dtype=complex)))\n",
    "\n",
    "    # Create indexing matrices\n",
    "    ind = np.arange(2*L+1)\n",
    "    M = np.tile(ind, (len(ind), 1))\n",
    "    NplusM = -((M.T - L) + (M - L)) + len(C) - 1\n",
    "    NplusM = np.flipud(np.rot90(NplusM, 2))\n",
    "    \n",
    "    # Flatten matrices\n",
    "    C_ixpm_mask1 = C_ixpm_mask1.flatten()\n",
    "    C_ixpm_mask2 = C_ixpm_mask2.flatten()\n",
    "    C_ifwm = C_ifwm.flatten()\n",
    "\n",
    "    center_offset = (len(symbX) - 1) // 2\n",
    "\n",
    "    # Main loop\n",
    "    for t in range(D, len(symbX) - D):\n",
    "        x_2d = symbX[t - D:t + D + 1]\n",
    "        y_2d = symbY[t - D:t + D + 1]\n",
    "        \n",
    "        X_NplusM = x_2d[NplusM]\n",
    "        Y_NplusM = y_2d[NplusM]\n",
    "\n",
    "        center = (len(x_2d) - 1) // 2\n",
    "        Xn = np.tile(x_2d[center - L:center + L + 1], (len(ind), 1)).T\n",
    "        Yn = np.tile(y_2d[center - L:center + L + 1], (len(ind), 1)).T\n",
    "        Xm = np.tile(x_2d[center - L:center + L + 1], (len(ind), 1))\n",
    "        Ym = np.tile(y_2d[center - L:center + L + 1], (len(ind), 1))\n",
    "\n",
    "        Xn = np.flipud(Xn)\n",
    "        Yn = np.flipud(Yn)\n",
    "\n",
    "        DX = (Xn * np.conj(X_NplusM) * Xm + Yn * np.conj(Y_NplusM) * Xm)\n",
    "        DY = (Yn * np.conj(Y_NplusM) * Ym + Xn * np.conj(X_NplusM) * Ym)\n",
    "\n",
    "        DX_vec = DX.flatten()\n",
    "        DY_vec = DY.flatten()\n",
    "\n",
    "        Xm2 = np.abs(Xm)**2\n",
    "        Ym2 = np.abs(Ym)**2\n",
    "\n",
    "        phi_ixpm_x[t - D] = np.imag(np.sum((2 * Xm2 + Ym2).flatten() * C_ixpm_mask1) + (np.abs(Xm[L, L])**2 + np.abs(Ym[L, L])**2) * C_ispm)\n",
    "        phi_ixpm_y[t - D] = np.imag(np.sum((2 * Ym2 + Xm2).flatten() * C_ixpm_mask1) + (np.abs(Ym[L, L])**2 + np.abs(Xm[L, L])**2) * C_ispm)\n",
    "\n",
    "        dx[t - D] = np.dot(DX_vec, C_ifwm) + np.dot((Yn * np.conj(Y_NplusM) * Xm).flatten(), C_ixpm_mask2)\n",
    "        dy[t - D] = np.dot(DY_vec, C_ifwm) + np.dot((Xn * np.conj(X_NplusM) * Ym).flatten(), C_ixpm_mask2)\n",
    "\n",
    "    return dx, dy, phi_ixpm_x, phi_ixpm_y\n",
    "\n",
    "def norm_power(signal):\n",
    "    \"\"\"Normalize signal power to 1.\"\"\"\n",
    "    power = np.mean(np.abs(signal)**2)\n",
    "    return signal / np.sqrt(power)\n"
   ]
  },
  {
   "cell_type": "code",
   "execution_count": 79,
   "id": "f14c9095",
   "metadata": {
    "ExecuteTime": {
     "end_time": "2025-04-26T19:48:30.717630Z",
     "start_time": "2025-04-26T19:48:30.562897Z"
    }
   },
   "outputs": [
    {
     "name": "stderr",
     "output_type": "stream",
     "text": [
      "INFO:root:Calculating matrix of perturbation coefficients (standard)...\n",
      "INFO:root:Matrix of perturbation coefficients calculated. Dimensions: 51 x 51\n"
     ]
    },
    {
     "data": {
      "text/plain": [
       "<matplotlib.image.AxesImage at 0x1d96f0313d0>"
      ]
     },
     "execution_count": 79,
     "metadata": {},
     "output_type": "execute_result"
    },
    {
     "data": {
      "image/png": "[encoded data removed]",
      "text/plain": [
       "<Figure size 640x480 with 1 Axes>"
      ]
     },
     "metadata": {},
     "output_type": "display_data"
    }
   ],
   "source": [
    "# Exemplo de como instanciar e chamar\n",
    "params = PertCoeffParams(\n",
    "    alpha=0.2,\n",
    "    D = 17,\n",
    "    Fc = 193.1e12,     # km\n",
    "    lspan=50,\n",
    "    length=800,\n",
    "    matrixOrder=25,\n",
    "    pulseWidth=0.5*1/32e9,\n",
    "    symbolPeriod=1/32e9,\n",
    "    gamma=1.3,\n",
    "    powerWeighted=False\n",
    ")\n",
    "\n",
    "C, C_ifwm, C_ixpm, C_ispm = pert_coeff_matrix(params)\n",
    "\n",
    "plt.figure()\n",
    "plt.imshow(np.abs(np.imag(C)))\n",
    "#plt.imshow(np.abs(C_ispm))"
   ]
  },
  {
   "cell_type": "code",
   "execution_count": 80,
   "id": "879ec0c5",
   "metadata": {
    "ExecuteTime": {
     "end_time": "2025-04-26T19:48:31.311234Z",
     "start_time": "2025-04-26T19:48:31.304577Z"
    }
   },
   "outputs": [],
   "source": [
    "# Run simulation \n",
    "M   = 16  # order of the modulation format\n",
    "constType = 'qam' # 'qam', 'psk', 'apsk', 'pam' or 'ook'\n",
    "\n",
    "# generate random bits\n",
    "bitsX = np.random.randint(2,size =int(np.log2(M)*1e4))\n",
    "bitsY = np.random.randint(2,size =int(np.log2(M)*1e4))\n",
    "\n",
    "# Map bits to constellation symbols\n",
    "symbX = modulateGray(bitsX, M, constType)\n",
    "symbY = modulateGray(bitsY, M, constType)\n",
    "\n",
    "# normalize symbols energy to 1\n",
    "symbX = pnorm(symbX)\n",
    "symbY = pnorm(symbY)"
   ]
  },
  {
   "cell_type": "code",
   "execution_count": 90,
   "id": "76f7a092",
   "metadata": {
    "ExecuteTime": {
     "end_time": "2025-04-26T19:52:33.039707Z",
     "start_time": "2025-04-26T19:52:29.262221Z"
    }
   },
   "outputs": [
    {
     "name": "stderr",
     "output_type": "stream",
     "text": [
      "C:\\Users\\edson\\AppData\\Local\\Temp\\ipykernel_30396\\2548296464.py:115: RuntimeWarning: divide by zero encountered in divide\n",
      "  C_ixpm_mask1 = C_ixpm * np.isinf(1.0 / C_m_non_equal_zero.T)\n",
      "C:\\Users\\edson\\AppData\\Local\\Temp\\ipykernel_30396\\2548296464.py:115: RuntimeWarning: invalid value encountered in divide\n",
      "  C_ixpm_mask1 = C_ixpm * np.isinf(1.0 / C_m_non_equal_zero.T)\n",
      "C:\\Users\\edson\\AppData\\Local\\Temp\\ipykernel_30396\\2548296464.py:116: RuntimeWarning: divide by zero encountered in divide\n",
      "  C_ixpm_mask2 = C_ixpm * np.isinf(1.0 / C_m_non_equal_zero)\n",
      "C:\\Users\\edson\\AppData\\Local\\Temp\\ipykernel_30396\\2548296464.py:116: RuntimeWarning: invalid value encountered in divide\n",
      "  C_ixpm_mask2 = C_ixpm * np.isinf(1.0 / C_m_non_equal_zero)\n"
     ]
    }
   ],
   "source": [
    "Power = 1 # dBm\n",
    "\n",
    "dx, dy, phi_ixpm_x, phi_ixpm_y = additive_multiplicative_model_nlin_waveform(C_ifwm, C_ixpm, C_ispm, symbX, symbY)\n",
    "\n",
    "Plaunch = 10**(Power / 10) * 1e-3  # Calcula a potência de lançamento em Watts\n",
    "PeakPower = 0.5 * Plaunch               # Potência de pico por polarização, em Watts\n",
    "\n",
    "deltaX = PeakPower**(3/2) * dx\n",
    "deltaY = PeakPower**(3/2) * dy\n",
    "phiX = PeakPower * phi_ixpm_x\n",
    "phiY = PeakPower * phi_ixpm_y\n",
    "\n",
    "nlinX = symbX * (np.exp(1j * phiX) - 1) + deltaX * np.exp(1j * phiX)\n",
    "nlinY = symbY * (np.exp(1j * phiY) - 1) + deltaY * np.exp(1j * phiY)"
   ]
  },
  {
   "cell_type": "code",
   "execution_count": 92,
   "id": "529ca59d",
   "metadata": {
    "ExecuteTime": {
     "end_time": "2025-04-26T19:52:39.516492Z",
     "start_time": "2025-04-26T19:52:39.389433Z"
    }
   },
   "outputs": [
    {
     "data": {
      "image/png": "[encoded data removed]",
      "text/plain": [
       "<Figure size 640x480 with 1 Axes>"
      ]
     },
     "metadata": {},
     "output_type": "display_data"
    }
   ],
   "source": [
    "rot = np.mean(symbX / (symbX + nlinX))\n",
    "\n",
    "symbX_r = np.exp(1j*np.angle(rot)) * (symbX + nlinX)\n",
    "\n",
    "pconst(symbX_r);"
   ]
  },
  {
   "cell_type": "code",
   "execution_count": null,
   "id": "c7acba87",
   "metadata": {},
   "outputs": [],
   "source": []
  }
 ],
 "metadata": {
  "kernelspec": {
   "display_name": "Python 3 (ipykernel)",
   "language": "python",
   "name": "python3"
  },
  "language_info": {
   "codemirror_mode": {
    "name": "ipython",
    "version": 3
   },
   "file_extension": ".py",
   "mimetype": "text/x-python",
   "name": "python",
   "nbconvert_exporter": "python",
   "pygments_lexer": "ipython3",
   "version": "3.11.11"
  },
  "toc": {
   "base_numbering": 1,
   "nav_menu": {},
   "number_sections": true,
   "sideBar": true,
   "skip_h1_title": true,
   "title_cell": "Table of Contents",
   "title_sidebar": "Contents",
   "toc_cell": true,
   "toc_position": {},
   "toc_section_display": true,
   "toc_window_display": false
  }
 },
 "nbformat": 4,
 "nbformat_minor": 5
}
