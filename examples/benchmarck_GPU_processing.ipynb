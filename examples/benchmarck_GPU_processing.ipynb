{
  "cells": [
    {
      "cell_type": "markdown",
      "metadata": {
        "id": "view-in-github",
        "colab_type": "text"
      },
      "source": [
        "<a href=\"https://colab.research.google.com/github/edsonportosilva/OptiCommPy-private/blob/main/examples/benchmarck_GPU_processing.ipynb\" target=\"_parent\"><img src=\"https://colab.research.google.com/assets/colab-badge.svg\" alt=\"Open In Colab\"/></a>"
      ]
    },
    {
      "cell_type": "markdown",
      "id": "0270b2b0",
      "metadata": {
        "id": "0270b2b0"
      },
      "source": [
        "# Benchmarck GPU processing\n",
        "\n",
        "In this notebook, a benchmark analysis is conducted to assess the processing time necessary for simulating signal propagation through the nonlinear fiber model, specifically employing the Manakov model. The propagation simulation is implemented numerically, utilizing a split-step Fourier (SSF) algorithm."
      ]
    },
    {
      "cell_type": "code",
      "execution_count": 1,
      "id": "1ca1b9d6",
      "metadata": {
        "ExecuteTime": {
          "end_time": "2024-04-25T14:58:55.184567Z",
          "start_time": "2024-04-25T14:58:55.177057Z"
        },
        "colab": {
          "base_uri": "https://localhost:8080/"
        },
        "id": "1ca1b9d6",
        "outputId": "00b51ecd-f577-42e0-93dc-87ae74f8f937"
      },
      "outputs": [
        {
          "output_type": "stream",
          "name": "stdout",
          "text": [
            "Cloning into 'OptiCommPy'...\n",
            "remote: Enumerating objects: 10225, done.\u001b[K\n",
            "remote: Counting objects: 100% (4273/4273), done.\u001b[K\n",
            "remote: Compressing objects: 100% (941/941), done.\u001b[K\n",
            "remote: Total 10225 (delta 3483), reused 4058 (delta 3313), pack-reused 5952\u001b[K\n",
            "Receiving objects: 100% (10225/10225), 191.24 MiB | 29.92 MiB/s, done.\n",
            "Resolving deltas: 100% (7603/7603), done.\n",
            "Processing /content/OptiCommPy\n",
            "  Preparing metadata (setup.py) ... \u001b[?25l\u001b[?25hdone\n",
            "Requirement already satisfied: numpy>=1.9.2 in /usr/local/lib/python3.10/dist-packages (from OptiCommPy==0.7.0) (1.25.2)\n",
            "Requirement already satisfied: scipy>=0.15.0 in /usr/local/lib/python3.10/dist-packages (from OptiCommPy==0.7.0) (1.11.4)\n",
            "Requirement already satisfied: matplotlib>=3.7.0 in /usr/local/lib/python3.10/dist-packages (from OptiCommPy==0.7.0) (3.7.1)\n",
            "Requirement already satisfied: sympy in /usr/local/lib/python3.10/dist-packages (from OptiCommPy==0.7.0) (1.12)\n",
            "Requirement already satisfied: tqdm>=4.64.1 in /usr/local/lib/python3.10/dist-packages (from OptiCommPy==0.7.0) (4.66.2)\n",
            "Requirement already satisfied: numba>=0.54.1 in /usr/local/lib/python3.10/dist-packages (from OptiCommPy==0.7.0) (0.58.1)\n",
            "Collecting scikit-commpy>=0.7.0 (from OptiCommPy==0.7.0)\n",
            "  Downloading scikit-commpy-0.8.0.tar.gz (102 kB)\n",
            "\u001b[2K     \u001b[90m━━━━━━━━━━━━━━━━━━━━━━━━━━━━━━━━━━━━━━━━\u001b[0m \u001b[32m102.8/102.8 kB\u001b[0m \u001b[31m2.3 MB/s\u001b[0m eta \u001b[36m0:00:00\u001b[0m\n",
            "\u001b[?25h  Preparing metadata (setup.py) ... \u001b[?25l\u001b[?25hdone\n",
            "Collecting simple-pid>=1.0.1 (from OptiCommPy==0.7.0)\n",
            "  Downloading simple_pid-2.0.0-py3-none-any.whl (7.2 kB)\n",
            "Collecting mpl-scatter-density>=0.7.0 (from OptiCommPy==0.7.0)\n",
            "  Downloading mpl_scatter_density-0.7-py3-none-any.whl (655 kB)\n",
            "\u001b[2K     \u001b[90m━━━━━━━━━━━━━━━━━━━━━━━━━━━━━━━━━━━━━━━━\u001b[0m \u001b[32m655.5/655.5 kB\u001b[0m \u001b[31m9.0 MB/s\u001b[0m eta \u001b[36m0:00:00\u001b[0m\n",
            "\u001b[?25hRequirement already satisfied: pandas>=2.0.0 in /usr/local/lib/python3.10/dist-packages (from OptiCommPy==0.7.0) (2.0.3)\n",
            "Collecting sphinx-rtd-theme>=1.2.2 (from OptiCommPy==0.7.0)\n",
            "  Downloading sphinx_rtd_theme-2.0.0-py2.py3-none-any.whl (2.8 MB)\n",
            "\u001b[2K     \u001b[90m━━━━━━━━━━━━━━━━━━━━━━━━━━━━━━━━━━━━━━━━\u001b[0m \u001b[32m2.8/2.8 MB\u001b[0m \u001b[31m19.3 MB/s\u001b[0m eta \u001b[36m0:00:00\u001b[0m\n",
            "\u001b[?25hCollecting nbsphinx>=0.9.3 (from OptiCommPy==0.7.0)\n",
            "  Downloading nbsphinx-0.9.3-py3-none-any.whl (31 kB)\n",
            "Collecting nbsphinx-link>=1.3.0 (from OptiCommPy==0.7.0)\n",
            "  Downloading nbsphinx_link-1.3.0-py2.py3-none-any.whl (5.2 kB)\n",
            "Requirement already satisfied: contourpy>=1.0.1 in /usr/local/lib/python3.10/dist-packages (from matplotlib>=3.7.0->OptiCommPy==0.7.0) (1.2.1)\n",
            "Requirement already satisfied: cycler>=0.10 in /usr/local/lib/python3.10/dist-packages (from matplotlib>=3.7.0->OptiCommPy==0.7.0) (0.12.1)\n",
            "Requirement already satisfied: fonttools>=4.22.0 in /usr/local/lib/python3.10/dist-packages (from matplotlib>=3.7.0->OptiCommPy==0.7.0) (4.51.0)\n",
            "Requirement already satisfied: kiwisolver>=1.0.1 in /usr/local/lib/python3.10/dist-packages (from matplotlib>=3.7.0->OptiCommPy==0.7.0) (1.4.5)\n",
            "Requirement already satisfied: packaging>=20.0 in /usr/local/lib/python3.10/dist-packages (from matplotlib>=3.7.0->OptiCommPy==0.7.0) (24.0)\n",
            "Requirement already satisfied: pillow>=6.2.0 in /usr/local/lib/python3.10/dist-packages (from matplotlib>=3.7.0->OptiCommPy==0.7.0) (9.4.0)\n",
            "Requirement already satisfied: pyparsing>=2.3.1 in /usr/local/lib/python3.10/dist-packages (from matplotlib>=3.7.0->OptiCommPy==0.7.0) (3.1.2)\n",
            "Requirement already satisfied: python-dateutil>=2.7 in /usr/local/lib/python3.10/dist-packages (from matplotlib>=3.7.0->OptiCommPy==0.7.0) (2.8.2)\n",
            "Collecting fast-histogram>=0.3 (from mpl-scatter-density>=0.7.0->OptiCommPy==0.7.0)\n",
            "  Downloading fast_histogram-0.14-cp39-abi3-manylinux_2_5_x86_64.manylinux1_x86_64.manylinux_2_17_x86_64.manylinux2014_x86_64.whl (55 kB)\n",
            "\u001b[2K     \u001b[90m━━━━━━━━━━━━━━━━━━━━━━━━━━━━━━━━━━━━━━━━\u001b[0m \u001b[32m55.4/55.4 kB\u001b[0m \u001b[31m6.0 MB/s\u001b[0m eta \u001b[36m0:00:00\u001b[0m\n",
            "\u001b[?25hRequirement already satisfied: docutils in /usr/local/lib/python3.10/dist-packages (from nbsphinx>=0.9.3->OptiCommPy==0.7.0) (0.18.1)\n",
            "Requirement already satisfied: jinja2 in /usr/local/lib/python3.10/dist-packages (from nbsphinx>=0.9.3->OptiCommPy==0.7.0) (3.1.3)\n",
            "Requirement already satisfied: nbconvert!=5.4 in /usr/local/lib/python3.10/dist-packages (from nbsphinx>=0.9.3->OptiCommPy==0.7.0) (6.5.4)\n",
            "Requirement already satisfied: traitlets>=5 in /usr/local/lib/python3.10/dist-packages (from nbsphinx>=0.9.3->OptiCommPy==0.7.0) (5.7.1)\n",
            "Requirement already satisfied: nbformat in /usr/local/lib/python3.10/dist-packages (from nbsphinx>=0.9.3->OptiCommPy==0.7.0) (5.10.4)\n",
            "Requirement already satisfied: sphinx>=1.8 in /usr/local/lib/python3.10/dist-packages (from nbsphinx>=0.9.3->OptiCommPy==0.7.0) (5.0.2)\n",
            "Requirement already satisfied: llvmlite<0.42,>=0.41.0dev0 in /usr/local/lib/python3.10/dist-packages (from numba>=0.54.1->OptiCommPy==0.7.0) (0.41.1)\n",
            "Requirement already satisfied: pytz>=2020.1 in /usr/local/lib/python3.10/dist-packages (from pandas>=2.0.0->OptiCommPy==0.7.0) (2023.4)\n",
            "Requirement already satisfied: tzdata>=2022.1 in /usr/local/lib/python3.10/dist-packages (from pandas>=2.0.0->OptiCommPy==0.7.0) (2024.1)\n",
            "Collecting sphinxcontrib-jquery<5,>=4 (from sphinx-rtd-theme>=1.2.2->OptiCommPy==0.7.0)\n",
            "  Downloading sphinxcontrib_jquery-4.1-py2.py3-none-any.whl (121 kB)\n",
            "\u001b[2K     \u001b[90m━━━━━━━━━━━━━━━━━━━━━━━━━━━━━━━━━━━━━━━━\u001b[0m \u001b[32m121.1/121.1 kB\u001b[0m \u001b[31m14.3 MB/s\u001b[0m eta \u001b[36m0:00:00\u001b[0m\n",
            "\u001b[?25hRequirement already satisfied: mpmath>=0.19 in /usr/local/lib/python3.10/dist-packages (from sympy->OptiCommPy==0.7.0) (1.3.0)\n",
            "Requirement already satisfied: lxml in /usr/local/lib/python3.10/dist-packages (from nbconvert!=5.4->nbsphinx>=0.9.3->OptiCommPy==0.7.0) (4.9.4)\n",
            "Requirement already satisfied: beautifulsoup4 in /usr/local/lib/python3.10/dist-packages (from nbconvert!=5.4->nbsphinx>=0.9.3->OptiCommPy==0.7.0) (4.12.3)\n",
            "Requirement already satisfied: bleach in /usr/local/lib/python3.10/dist-packages (from nbconvert!=5.4->nbsphinx>=0.9.3->OptiCommPy==0.7.0) (6.1.0)\n",
            "Requirement already satisfied: defusedxml in /usr/local/lib/python3.10/dist-packages (from nbconvert!=5.4->nbsphinx>=0.9.3->OptiCommPy==0.7.0) (0.7.1)\n",
            "Requirement already satisfied: entrypoints>=0.2.2 in /usr/local/lib/python3.10/dist-packages (from nbconvert!=5.4->nbsphinx>=0.9.3->OptiCommPy==0.7.0) (0.4)\n",
            "Requirement already satisfied: jupyter-core>=4.7 in /usr/local/lib/python3.10/dist-packages (from nbconvert!=5.4->nbsphinx>=0.9.3->OptiCommPy==0.7.0) (5.7.2)\n",
            "Requirement already satisfied: jupyterlab-pygments in /usr/local/lib/python3.10/dist-packages (from nbconvert!=5.4->nbsphinx>=0.9.3->OptiCommPy==0.7.0) (0.3.0)\n",
            "Requirement already satisfied: MarkupSafe>=2.0 in /usr/local/lib/python3.10/dist-packages (from nbconvert!=5.4->nbsphinx>=0.9.3->OptiCommPy==0.7.0) (2.1.5)\n",
            "Requirement already satisfied: mistune<2,>=0.8.1 in /usr/local/lib/python3.10/dist-packages (from nbconvert!=5.4->nbsphinx>=0.9.3->OptiCommPy==0.7.0) (0.8.4)\n",
            "Requirement already satisfied: nbclient>=0.5.0 in /usr/local/lib/python3.10/dist-packages (from nbconvert!=5.4->nbsphinx>=0.9.3->OptiCommPy==0.7.0) (0.10.0)\n",
            "Requirement already satisfied: pandocfilters>=1.4.1 in /usr/local/lib/python3.10/dist-packages (from nbconvert!=5.4->nbsphinx>=0.9.3->OptiCommPy==0.7.0) (1.5.1)\n",
            "Requirement already satisfied: pygments>=2.4.1 in /usr/local/lib/python3.10/dist-packages (from nbconvert!=5.4->nbsphinx>=0.9.3->OptiCommPy==0.7.0) (2.16.1)\n",
            "Requirement already satisfied: tinycss2 in /usr/local/lib/python3.10/dist-packages (from nbconvert!=5.4->nbsphinx>=0.9.3->OptiCommPy==0.7.0) (1.2.1)\n",
            "Requirement already satisfied: fastjsonschema>=2.15 in /usr/local/lib/python3.10/dist-packages (from nbformat->nbsphinx>=0.9.3->OptiCommPy==0.7.0) (2.19.1)\n",
            "Requirement already satisfied: jsonschema>=2.6 in /usr/local/lib/python3.10/dist-packages (from nbformat->nbsphinx>=0.9.3->OptiCommPy==0.7.0) (4.19.2)\n",
            "Requirement already satisfied: six>=1.5 in /usr/local/lib/python3.10/dist-packages (from python-dateutil>=2.7->matplotlib>=3.7.0->OptiCommPy==0.7.0) (1.16.0)\n",
            "Requirement already satisfied: sphinxcontrib-applehelp in /usr/local/lib/python3.10/dist-packages (from sphinx>=1.8->nbsphinx>=0.9.3->OptiCommPy==0.7.0) (1.0.8)\n",
            "Requirement already satisfied: sphinxcontrib-devhelp in /usr/local/lib/python3.10/dist-packages (from sphinx>=1.8->nbsphinx>=0.9.3->OptiCommPy==0.7.0) (1.0.6)\n",
            "Requirement already satisfied: sphinxcontrib-jsmath in /usr/local/lib/python3.10/dist-packages (from sphinx>=1.8->nbsphinx>=0.9.3->OptiCommPy==0.7.0) (1.0.1)\n",
            "Requirement already satisfied: sphinxcontrib-htmlhelp>=2.0.0 in /usr/local/lib/python3.10/dist-packages (from sphinx>=1.8->nbsphinx>=0.9.3->OptiCommPy==0.7.0) (2.0.5)\n",
            "Requirement already satisfied: sphinxcontrib-serializinghtml>=1.1.5 in /usr/local/lib/python3.10/dist-packages (from sphinx>=1.8->nbsphinx>=0.9.3->OptiCommPy==0.7.0) (1.1.10)\n",
            "Requirement already satisfied: sphinxcontrib-qthelp in /usr/local/lib/python3.10/dist-packages (from sphinx>=1.8->nbsphinx>=0.9.3->OptiCommPy==0.7.0) (1.0.7)\n",
            "Requirement already satisfied: snowballstemmer>=1.1 in /usr/local/lib/python3.10/dist-packages (from sphinx>=1.8->nbsphinx>=0.9.3->OptiCommPy==0.7.0) (2.2.0)\n",
            "Requirement already satisfied: babel>=1.3 in /usr/local/lib/python3.10/dist-packages (from sphinx>=1.8->nbsphinx>=0.9.3->OptiCommPy==0.7.0) (2.14.0)\n",
            "Requirement already satisfied: alabaster<0.8,>=0.7 in /usr/local/lib/python3.10/dist-packages (from sphinx>=1.8->nbsphinx>=0.9.3->OptiCommPy==0.7.0) (0.7.16)\n",
            "Requirement already satisfied: imagesize in /usr/local/lib/python3.10/dist-packages (from sphinx>=1.8->nbsphinx>=0.9.3->OptiCommPy==0.7.0) (1.4.1)\n",
            "Requirement already satisfied: requests>=2.5.0 in /usr/local/lib/python3.10/dist-packages (from sphinx>=1.8->nbsphinx>=0.9.3->OptiCommPy==0.7.0) (2.31.0)\n",
            "Requirement already satisfied: attrs>=22.2.0 in /usr/local/lib/python3.10/dist-packages (from jsonschema>=2.6->nbformat->nbsphinx>=0.9.3->OptiCommPy==0.7.0) (23.2.0)\n",
            "Requirement already satisfied: jsonschema-specifications>=2023.03.6 in /usr/local/lib/python3.10/dist-packages (from jsonschema>=2.6->nbformat->nbsphinx>=0.9.3->OptiCommPy==0.7.0) (2023.12.1)\n",
            "Requirement already satisfied: referencing>=0.28.4 in /usr/local/lib/python3.10/dist-packages (from jsonschema>=2.6->nbformat->nbsphinx>=0.9.3->OptiCommPy==0.7.0) (0.34.0)\n",
            "Requirement already satisfied: rpds-py>=0.7.1 in /usr/local/lib/python3.10/dist-packages (from jsonschema>=2.6->nbformat->nbsphinx>=0.9.3->OptiCommPy==0.7.0) (0.18.0)\n",
            "Requirement already satisfied: platformdirs>=2.5 in /usr/local/lib/python3.10/dist-packages (from jupyter-core>=4.7->nbconvert!=5.4->nbsphinx>=0.9.3->OptiCommPy==0.7.0) (4.2.0)\n",
            "Requirement already satisfied: jupyter-client>=6.1.12 in /usr/local/lib/python3.10/dist-packages (from nbclient>=0.5.0->nbconvert!=5.4->nbsphinx>=0.9.3->OptiCommPy==0.7.0) (6.1.12)\n",
            "Requirement already satisfied: charset-normalizer<4,>=2 in /usr/local/lib/python3.10/dist-packages (from requests>=2.5.0->sphinx>=1.8->nbsphinx>=0.9.3->OptiCommPy==0.7.0) (3.3.2)\n",
            "Requirement already satisfied: idna<4,>=2.5 in /usr/local/lib/python3.10/dist-packages (from requests>=2.5.0->sphinx>=1.8->nbsphinx>=0.9.3->OptiCommPy==0.7.0) (3.7)\n",
            "Requirement already satisfied: urllib3<3,>=1.21.1 in /usr/local/lib/python3.10/dist-packages (from requests>=2.5.0->sphinx>=1.8->nbsphinx>=0.9.3->OptiCommPy==0.7.0) (2.0.7)\n",
            "Requirement already satisfied: certifi>=2017.4.17 in /usr/local/lib/python3.10/dist-packages (from requests>=2.5.0->sphinx>=1.8->nbsphinx>=0.9.3->OptiCommPy==0.7.0) (2024.2.2)\n",
            "Requirement already satisfied: soupsieve>1.2 in /usr/local/lib/python3.10/dist-packages (from beautifulsoup4->nbconvert!=5.4->nbsphinx>=0.9.3->OptiCommPy==0.7.0) (2.5)\n",
            "Requirement already satisfied: webencodings in /usr/local/lib/python3.10/dist-packages (from bleach->nbconvert!=5.4->nbsphinx>=0.9.3->OptiCommPy==0.7.0) (0.5.1)\n",
            "Requirement already satisfied: pyzmq>=13 in /usr/local/lib/python3.10/dist-packages (from jupyter-client>=6.1.12->nbclient>=0.5.0->nbconvert!=5.4->nbsphinx>=0.9.3->OptiCommPy==0.7.0) (23.2.1)\n",
            "Requirement already satisfied: tornado>=4.1 in /usr/local/lib/python3.10/dist-packages (from jupyter-client>=6.1.12->nbclient>=0.5.0->nbconvert!=5.4->nbsphinx>=0.9.3->OptiCommPy==0.7.0) (6.3.3)\n",
            "Building wheels for collected packages: OptiCommPy, scikit-commpy\n",
            "  Building wheel for OptiCommPy (setup.py) ... \u001b[?25l\u001b[?25hdone\n",
            "  Created wheel for OptiCommPy: filename=OptiCommPy-0.7.0-py3-none-any.whl size=75621 sha256=63b6836fb77d8ea398046fb3af1e21dd5f88055f65f1f6eda865381fabb94700\n",
            "  Stored in directory: /tmp/pip-ephem-wheel-cache-retayhoa/wheels/9e/f3/8b/afabbf8928f62ae99a9b1ff6cd1517ecf94ac8ce265d6f0ae0\n",
            "  Building wheel for scikit-commpy (setup.py) ... \u001b[?25l\u001b[?25hdone\n",
            "  Created wheel for scikit-commpy: filename=scikit_commpy-0.8.0-py3-none-any.whl size=115006 sha256=5adbdc894722c9ea2f76046683a7affe1dc3aac117fe9a9ea026864dac6c9da8\n",
            "  Stored in directory: /root/.cache/pip/wheels/36/eb/56/f0bffa07ed968244dac624cfc6dee75474b7b451299bf54950\n",
            "Successfully built OptiCommPy scikit-commpy\n",
            "Installing collected packages: simple-pid, fast-histogram, sphinxcontrib-jquery, scikit-commpy, mpl-scatter-density, sphinx-rtd-theme, nbsphinx, nbsphinx-link, OptiCommPy\n",
            "Successfully installed OptiCommPy-0.7.0 fast-histogram-0.14 mpl-scatter-density-0.7 nbsphinx-0.9.3 nbsphinx-link-1.3.0 scikit-commpy-0.8.0 simple-pid-2.0.0 sphinx-rtd-theme-2.0.0 sphinxcontrib-jquery-4.1\n"
          ]
        }
      ],
      "source": [
        "if 'google.colab' in str(get_ipython()):\n",
        "    ! git clone -b main https://github.com/edsonportosilva/OptiCommPy\n",
        "    from os import chdir as cd\n",
        "    cd('/content/OptiCommPy/')\n",
        "    ! pip install ."
      ]
    },
    {
      "cell_type": "code",
      "execution_count": 2,
      "id": "a4110d40",
      "metadata": {
        "ExecuteTime": {
          "end_time": "2024-04-25T18:02:44.171366Z",
          "start_time": "2024-04-25T18:02:44.110655Z"
        },
        "id": "a4110d40"
      },
      "outputs": [],
      "source": [
        "import matplotlib.pyplot as plt\n",
        "import numpy as np\n",
        "\n",
        "from optic.models.modelsGPU import manakovSSF as manakovSSF_GPU\n",
        "from optic.models.channels import manakovSSF as manakovSSF_CPU\n",
        "from optic.dsp.coreGPU import firFilter as firFilter_GPU\n",
        "from optic.dsp.core import firFilter as firFilter_CPU\n",
        "from optic.dsp.core import pulseShape\n",
        "from optic.models.tx import simpleWDMTx\n",
        "from optic.utils import parameters\n",
        "\n",
        "import logging as logg\n",
        "logg.basicConfig(level=logg.WARN, format='%(message)s', force=True)\n",
        "\n",
        "import time\n",
        "from tqdm.notebook import tqdm"
      ]
    },
    {
      "cell_type": "code",
      "execution_count": 3,
      "id": "7df01820",
      "metadata": {
        "ExecuteTime": {
          "end_time": "2024-04-25T14:58:56.904120Z",
          "start_time": "2024-04-25T14:58:56.898434Z"
        },
        "colab": {
          "base_uri": "https://localhost:8080/",
          "height": 17
        },
        "id": "7df01820",
        "outputId": "0ea6c6e1-57c3-4c6d-ff87-15928e452b87"
      },
      "outputs": [
        {
          "output_type": "execute_result",
          "data": {
            "text/plain": [
              "<IPython.core.display.HTML object>"
            ],
            "text/html": [
              "\n",
              "<style>\n",
              ".output_png {\n",
              "    display: table-cell;\n",
              "    text-align: center;\n",
              "    vertical-align: middle;\n",
              "}\n",
              "</style>\n"
            ]
          },
          "metadata": {},
          "execution_count": 3
        }
      ],
      "source": [
        "from IPython.core.display import HTML\n",
        "from IPython.core.pylabtools import figsize\n",
        "\n",
        "HTML(\"\"\"\n",
        "<style>\n",
        ".output_png {\n",
        "    display: table-cell;\n",
        "    text-align: center;\n",
        "    vertical-align: middle;\n",
        "}\n",
        "</style>\n",
        "\"\"\")"
      ]
    },
    {
      "cell_type": "code",
      "execution_count": 4,
      "id": "b8626f68",
      "metadata": {
        "ExecuteTime": {
          "end_time": "2024-04-25T14:58:56.919621Z",
          "start_time": "2024-04-25T14:58:56.905134Z"
        },
        "id": "b8626f68"
      },
      "outputs": [],
      "source": [
        "figsize(10, 3)"
      ]
    },
    {
      "cell_type": "code",
      "execution_count": 5,
      "id": "fc09c144",
      "metadata": {
        "ExecuteTime": {
          "end_time": "2024-04-25T14:58:56.991944Z",
          "start_time": "2024-04-25T14:58:56.920669Z"
        },
        "id": "fc09c144"
      },
      "outputs": [],
      "source": [
        "%load_ext autoreload\n",
        "%autoreload 2\n",
        "#%load_ext line_profiler"
      ]
    },
    {
      "cell_type": "markdown",
      "id": "505eaaa6",
      "metadata": {
        "id": "505eaaa6"
      },
      "source": [
        "## Signal parameters"
      ]
    },
    {
      "cell_type": "code",
      "execution_count": 6,
      "id": "51257869",
      "metadata": {
        "ExecuteTime": {
          "end_time": "2024-04-25T14:58:57.049708Z",
          "start_time": "2024-04-25T14:58:56.992971Z"
        },
        "id": "51257869",
        "lines_to_next_cell": 0
      },
      "outputs": [],
      "source": [
        "# Transmitter parameters:\n",
        "paramTx = parameters()\n",
        "paramTx.M   = 16           # order of the modulation format\n",
        "paramTx.Rs  = 32e9         # symbol rate [baud]\n",
        "paramTx.SpS = 4            # samples per symbol\n",
        "paramTx.pulse = 'rrc'      # pulse shaping filter\n",
        "paramTx.Ntaps = 4096       # number of pulse shaping filter coefficients\n",
        "paramTx.alphaRRC = 0.01    # RRC rolloff\n",
        "paramTx.Pch_dBm = -2       # power per WDM channel [dBm]\n",
        "paramTx.Nch     = 1        # number of WDM channels\n",
        "paramTx.Fc      = 193.1e12 # central optical frequency of the WDM spectrum\n",
        "paramTx.lw      = 100e3    # laser linewidth in Hz\n",
        "paramTx.freqSpac = 37.5e9  # WDM grid spacing\n",
        "paramTx.Nmodes = 2         # number of signal modes [2 for polarization multiplexed signals]\n",
        "paramTx.prgsBar = False    # show progress bar\n",
        "\n",
        "# optical channel parameters\n",
        "paramCh = parameters()\n",
        "paramCh.Ltotal = 500     # total link distance [km]\n",
        "paramCh.Lspan  = 50      # span length [km]\n",
        "paramCh.alpha = 0.2      # fiber loss parameter [dB/km]\n",
        "paramCh.D = 16           # fiber dispersion parameter [ps/nm/km]\n",
        "paramCh.gamma = 1.3      # fiber nonlinear parameter [1/(W.km)]\n",
        "paramCh.Fc = paramTx.Fc  # central optical frequency of the WDM spectrum\n",
        "paramCh.hz = 0.5         # step-size of the split-step Fourier method [km]\n",
        "paramCh.maxIter = 5      # maximum number of convergence iterations per step\n",
        "paramCh.tol = 1e-5       # error tolerance per step\n",
        "paramCh.nlprMethod = True # use adaptive step-size based o maximum nonlinear phase-shift\n",
        "paramCh.maxNlinPhaseRot = 2e-2 # maximum nonlinear phase-shift per step\n",
        "paramCh.prgsBar = False   # show progress bar\n",
        "#paramCh.saveSpanN = [1, 5, 9, 14]\n",
        "paramCh.Fs = paramTx.Rs*paramTx.SpS # sampling rate"
      ]
    },
    {
      "cell_type": "markdown",
      "id": "7a60e0ae",
      "metadata": {
        "id": "7a60e0ae"
      },
      "source": [
        "## Compare CPU vs GPU processing\n",
        "\n",
        "### manakovSSF"
      ]
    },
    {
      "cell_type": "code",
      "execution_count": 7,
      "id": "05599d49",
      "metadata": {
        "ExecuteTime": {
          "end_time": "2024-04-25T15:04:09.778622Z",
          "start_time": "2024-04-25T14:58:57.109049Z"
        },
        "colab": {
          "base_uri": "https://localhost:8080/",
          "height": 49,
          "referenced_widgets": [
            "176561ca50364840847dcfa737489e4a",
            "d21730e905d14a4da22eeab4841d0ec0",
            "91ecfc3f1fe34513957f43a21666be0c",
            "2574f4ed649b4c0ca8ef3e75549df10e",
            "5ce87e3278594f3ca595a3e063b1df7a",
            "f3c6ba8484c548a097b97e8841d44658",
            "44609f08b5424247998ea947a8882c8f",
            "7284479aa8914f0b8e827758fa227d55",
            "723b5e5c42b24c958cbbcef8471d615f",
            "1cbb1d1a923043209ee82aa520cc4bb3",
            "1aacb3b762de40e69213f29224a0675c"
          ]
        },
        "id": "05599d49",
        "outputId": "1c01ab7b-22c6-4454-9e17-f8a689e7f479",
        "scrolled": false
      },
      "outputs": [
        {
          "output_type": "display_data",
          "data": {
            "text/plain": [
              "  0%|          | 0/7 [00:00<?, ?it/s]"
            ],
            "application/vnd.jupyter.widget-view+json": {
              "version_major": 2,
              "version_minor": 0,
              "model_id": "176561ca50364840847dcfa737489e4a"
            }
          },
          "metadata": {}
        }
      ],
      "source": [
        "numberOfSymbols = np.array([5e3, 1e4, 2e4, 5e4, 1e5, 2e5, 5e5])\n",
        "\n",
        "timeCPU = np.zeros(len(numberOfSymbols))\n",
        "timeGPU = np.zeros(len(numberOfSymbols))\n",
        "\n",
        "paramTx.Pch_dBm = -2 # power per WDM channel [dBm]\n",
        "\n",
        "for idx, Nsymb in enumerate(tqdm(numberOfSymbols)):\n",
        "    paramTx.Nbits = int(np.log2(paramTx.M)*Nsymb) # total number of bits per polarization\n",
        "    # generate WDM signal\n",
        "    sigWDM_Tx, symbTx_, paramTx = simpleWDMTx(paramTx)\n",
        "\n",
        "    # nonlinear signal propagation\n",
        "    start = time.time()\n",
        "    sigWDM = manakovSSF_CPU(sigWDM_Tx, paramCh)\n",
        "    end = time.time()\n",
        "    timeCPU[idx] = end - start\n",
        "\n",
        "    # nonlinear signal propagation\n",
        "    start = time.time()\n",
        "    sigWDM = manakovSSF_GPU(sigWDM_Tx, paramCh)\n",
        "    end = time.time()\n",
        "    timeGPU[idx] = end - start"
      ]
    },
    {
      "cell_type": "code",
      "execution_count": 8,
      "id": "2305681b",
      "metadata": {
        "ExecuteTime": {
          "end_time": "2024-04-25T15:04:10.164461Z",
          "start_time": "2024-04-25T15:04:09.779618Z"
        },
        "colab": {
          "base_uri": "https://localhost:8080/",
          "height": 627
        },
        "id": "2305681b",
        "outputId": "5cbaa77c-7172-439a-b9ff-36d9f6f47d85"
      },
      "outputs": [
        {
          "output_type": "display_data",
          "data": {
            "text/plain": [
              "<Figure size 1000x300 with 1 Axes>"
            ],
            "image/png": "[encoded data removed]"
          },
          "metadata": {}
        },
        {
          "output_type": "display_data",
          "data": {
            "text/plain": [
              "<Figure size 1000x300 with 1 Axes>"
            ],
            "image/png": "[encoded data removed]"
          },
          "metadata": {}
        }
      ],
      "source": [
        "signalLength = numberOfSymbols*paramTx.SpS\n",
        "\n",
        "plt.plot(signalLength, timeCPU,'-o', label='CPU')\n",
        "plt.plot(signalLength, timeGPU,'-s', label='GPU')\n",
        "plt.xlabel('Length of the signal (number of samples)')\n",
        "plt.ylabel('Processing time (s)')\n",
        "plt.title(f'Launch power {paramTx.Pch_dBm:.2f} dBm')\n",
        "plt.legend()\n",
        "plt.grid()\n",
        "plt.xlim(min(signalLength), max(signalLength))\n",
        "\n",
        "plt.figure()\n",
        "plt.plot(signalLength, timeCPU/timeGPU,'-o', label='GPU speedup')\n",
        "plt.xlabel('Length of the signal (number of samples)')\n",
        "plt.ylabel('GPU speedup ($\\times$)')\n",
        "plt.legend()\n",
        "plt.grid()\n",
        "plt.xlim(min(signalLength), max(signalLength));"
      ]
    },
    {
      "cell_type": "code",
      "execution_count": 9,
      "id": "8fcecef1",
      "metadata": {
        "ExecuteTime": {
          "end_time": "2024-04-25T15:22:16.469054Z",
          "start_time": "2024-04-25T15:04:10.166461Z"
        },
        "colab": {
          "base_uri": "https://localhost:8080/",
          "height": 49,
          "referenced_widgets": [
            "89c3e6280e374b73814c083d06fc2738",
            "5e67095cd7514f91a21bf131b3e4d6a7",
            "a76e60500aff487a8386cc7d008a9205",
            "3a4d62ea473d4849b4ecdef97626a3ef",
            "f4c1909b26f44b9fa7044177c37d7a6a",
            "3dd49de9f5c344fa9c67df3b2954e521",
            "44c5a196b4f04eafa550179b4d727f3a",
            "edfde0e2d4f845b087d024d6d37f7cf1",
            "6a472e4334f9417488394401e0695895",
            "a7a158caa1224e7a8eac7437ed4cafad",
            "0c00093c58b442b189f27ef7f8f5c801"
          ]
        },
        "id": "8fcecef1",
        "outputId": "aecd3426-1412-491a-bbfc-dd89f4bbe140"
      },
      "outputs": [
        {
          "output_type": "display_data",
          "data": {
            "text/plain": [
              "  0%|          | 0/7 [00:00<?, ?it/s]"
            ],
            "application/vnd.jupyter.widget-view+json": {
              "version_major": 2,
              "version_minor": 0,
              "model_id": "89c3e6280e374b73814c083d06fc2738"
            }
          },
          "metadata": {}
        }
      ],
      "source": [
        "timeCPU = np.zeros(len(numberOfSymbols))\n",
        "timeGPU = np.zeros(len(numberOfSymbols))\n",
        "\n",
        "paramTx.Pch_dBm = 4 # power per WDM channel [dBm]\n",
        "\n",
        "for idx, Nsymb in enumerate(tqdm(numberOfSymbols)):\n",
        "    paramTx.Nbits = int(np.log2(paramTx.M)*Nsymb) # total number of bits per polarization\n",
        "    # generate WDM signal\n",
        "    sigWDM_Tx, symbTx_, paramTx = simpleWDMTx(paramTx)\n",
        "\n",
        "    # nonlinear signal propagation\n",
        "    start = time.time()\n",
        "    sigWDM = manakovSSF_CPU(sigWDM_Tx, paramCh)\n",
        "    end = time.time()\n",
        "    timeCPU[idx] = end - start\n",
        "\n",
        "    # nonlinear signal propagation\n",
        "    start = time.time()\n",
        "    sigWDM = manakovSSF_GPU(sigWDM_Tx, paramCh)\n",
        "    end = time.time()\n",
        "    timeGPU[idx] = end - start"
      ]
    },
    {
      "cell_type": "code",
      "execution_count": 10,
      "id": "781f35cd",
      "metadata": {
        "ExecuteTime": {
          "end_time": "2024-04-25T15:22:56.520985Z",
          "start_time": "2024-04-25T15:22:56.148417Z"
        },
        "colab": {
          "base_uri": "https://localhost:8080/",
          "height": 630
        },
        "id": "781f35cd",
        "outputId": "3db94e59-3b02-4d44-d492-ac807dd55780"
      },
      "outputs": [
        {
          "output_type": "display_data",
          "data": {
            "text/plain": [
              "<Figure size 1000x300 with 1 Axes>"
            ],
            "image/png": "[encoded data removed]"
          },
          "metadata": {}
        },
        {
          "output_type": "display_data",
          "data": {
            "text/plain": [
              "<Figure size 1000x300 with 1 Axes>"
            ],
            "image/png": "[encoded data removed]"
          },
          "metadata": {}
        }
      ],
      "source": [
        "signalLength = numberOfSymbols*paramTx.SpS\n",
        "\n",
        "plt.plot(signalLength, timeCPU,'-o', label='CPU')\n",
        "plt.plot(signalLength, timeGPU,'-s', label='GPU')\n",
        "plt.xlabel('Length of the signal (number of samples)')\n",
        "plt.ylabel('Processing time (s)')\n",
        "plt.title(f'Launch power {paramTx.Pch_dBm:.2f} dBm')\n",
        "plt.legend()\n",
        "plt.grid()\n",
        "plt.xlim(min(signalLength), max(signalLength))\n",
        "\n",
        "\n",
        "plt.figure()\n",
        "plt.plot(signalLength, timeCPU/timeGPU,'-o', label='GPU speedup')\n",
        "plt.xlabel('Length of the signal (number of samples)')\n",
        "plt.ylabel('GPU speedup ($\\\\times$)')\n",
        "plt.legend()\n",
        "plt.grid()\n",
        "plt.xlim(min(signalLength), max(signalLength));"
      ]
    },
    {
      "cell_type": "markdown",
      "id": "5d3e5431",
      "metadata": {
        "id": "5d3e5431"
      },
      "source": [
        "### Compilation of results (length of the signal $>10^6$ samples)\n",
        "\n",
        "\n",
        "| System configuration                     | GPU improvement  |\n",
        "|:-----------------------------------|:------------------|\n",
        "|Windows 64 bits Intel(R) Core(TM) i7-9700 CPU 3.00 GHz RAM 16.0 GB NVIDIA GeForce GTX 1060 6GB CUDA Version: 12.4| $\\approx$ 17.5 - 20x|\n",
        "|Google Colab System RAM 12.7 GB NVIDIA Tesla T4 15GB CUDA Version: 12.2| $\\approx$  25x|"
      ]
    },
    {
      "cell_type": "markdown",
      "id": "19046846",
      "metadata": {
        "id": "19046846"
      },
      "source": [
        "### firFilter"
      ]
    },
    {
      "cell_type": "code",
      "execution_count": 11,
      "id": "1dcd4967",
      "metadata": {
        "ExecuteTime": {
          "end_time": "2024-04-25T18:11:11.465737Z",
          "start_time": "2024-04-25T18:09:51.205904Z"
        },
        "colab": {
          "base_uri": "https://localhost:8080/",
          "height": 49,
          "referenced_widgets": [
            "0f8e0e6e000a4a939a01d2768ceff294",
            "cdabccf6e487431588d36ce39f4fbfb7",
            "f5795fe3890d44298967b11407a9b620",
            "6ccae51160824f5c96d033b782810a6a",
            "353f186485df4820974d42c68af16040",
            "dc2815ff5b9d4b4d801dac2bc961cfe6",
            "5473242514eb4934a0ff96294e1cc116",
            "746c26fa749b490abcc35757bbd87733",
            "5bc2325dc1fc41bdb82b9d2fb6d9d9bf",
            "8c343a69da9e4763a44fa336635d581e",
            "6a7cbb3ce342437ea1956f98c365fc90"
          ]
        },
        "id": "1dcd4967",
        "outputId": "5d0c2306-8a6c-4a1c-cf98-12c20d848bd5"
      },
      "outputs": [
        {
          "output_type": "display_data",
          "data": {
            "text/plain": [
              "  0%|          | 0/20 [00:00<?, ?it/s]"
            ],
            "application/vnd.jupyter.widget-view+json": {
              "version_major": 2,
              "version_minor": 0,
              "model_id": "0f8e0e6e000a4a939a01d2768ceff294"
            }
          },
          "metadata": {}
        }
      ],
      "source": [
        "h = pulseShape('rrc')\n",
        "numberOfSymbols = np.array([5e3, 1e4, 2e4, 5e4, 1e5, 2e5, 5e5])\n",
        "\n",
        "timeCPU = np.zeros(len(numberOfSymbols))\n",
        "timeGPU = np.zeros(len(numberOfSymbols))\n",
        "\n",
        "nTrials = 20\n",
        "\n",
        "for _ in tqdm(range(nTrials)):\n",
        "    for idx, Nsymb in enumerate(numberOfSymbols):\n",
        "        paramTx.Nbits = int(np.log2(paramTx.M)*Nsymb) # total number of bits per polarization\n",
        "        # generate WDM signal\n",
        "        sigWDM_Tx, symbTx_, paramTx = simpleWDMTx(paramTx)\n",
        "\n",
        "        # fir filtering\n",
        "        start = time.time()\n",
        "        sigFilt = firFilter_CPU(h, sigWDM_Tx)\n",
        "        end = time.time()\n",
        "        timeCPU[idx] += end - start\n",
        "\n",
        "        # fir filtering\n",
        "        start = time.time()\n",
        "        sigFilt = firFilter_GPU(h, sigWDM_Tx)\n",
        "        end = time.time()\n",
        "        timeGPU[idx] += end - start\n",
        "\n",
        "timeGPU /= nTrials\n",
        "timeCPU /= nTrials"
      ]
    },
    {
      "cell_type": "code",
      "execution_count": 12,
      "id": "3e683374",
      "metadata": {
        "ExecuteTime": {
          "end_time": "2024-04-25T18:11:11.800623Z",
          "start_time": "2024-04-25T18:11:11.466736Z"
        },
        "colab": {
          "base_uri": "https://localhost:8080/",
          "height": 609
        },
        "id": "3e683374",
        "outputId": "ed883d85-9f76-4449-9e3d-2a18b384cd30"
      },
      "outputs": [
        {
          "output_type": "display_data",
          "data": {
            "text/plain": [
              "<Figure size 1000x300 with 1 Axes>"
            ],
            "image/png": "[encoded data removed]"
          },
          "metadata": {}
        },
        {
          "output_type": "display_data",
          "data": {
            "text/plain": [
              "<Figure size 1000x300 with 1 Axes>"
            ],
            "image/png": "[encoded data removed]"
          },
          "metadata": {}
        }
      ],
      "source": [
        "signalLength = numberOfSymbols*paramTx.SpS\n",
        "\n",
        "plt.plot(signalLength, timeCPU,'-o', label='CPU')\n",
        "plt.plot(signalLength, timeGPU,'-s', label='GPU')\n",
        "plt.xlabel('Length of the signal (number of samples)')\n",
        "plt.ylabel('Processing time (s)')\n",
        "plt.legend()\n",
        "plt.grid()\n",
        "plt.xlim(min(signalLength), max(signalLength))\n",
        "\n",
        "\n",
        "plt.figure()\n",
        "plt.plot(signalLength, timeCPU/timeGPU,'-o', label='GPU speedup')\n",
        "plt.xlabel('Length of the signal (number of samples)')\n",
        "plt.ylabel('GPU speedup ($\\\\times$)')\n",
        "plt.legend()\n",
        "plt.grid()\n",
        "plt.xlim(min(signalLength), max(signalLength));"
      ]
    },
    {
      "cell_type": "markdown",
      "id": "99654013",
      "metadata": {
        "id": "99654013"
      },
      "source": [
        "### Compilation of results (length of the signal $>10^6$ samples)\n",
        "\n",
        "\n",
        "| System configuration                     | GPU improvement  |\n",
        "|:-----------------------------------|:------------------|\n",
        "|Windows 64 bits Intel(R) Core(TM) i7-9700 CPU 3.00 GHz RAM 16.0 GB NVIDIA GeForce GTX 1060 6GB CUDA Version: 12.4| $\\approx$ 16x|\n",
        "|Google Colab System RAM 12.7 GB NVIDIA Tesla T4 15GB CUDA Version: 12.2| $\\approx$ 20x|"
      ]
    },
    {
      "cell_type": "code",
      "execution_count": 12,
      "id": "e3d065d7",
      "metadata": {
        "id": "e3d065d7"
      },
      "outputs": [],
      "source": []
    }
  ],
  "metadata": {
    "accelerator": "GPU",
    "colab": {
      "provenance": [],
      "include_colab_link": true
    },
    "jupytext": {
      "encoding": "# -*- coding: utf-8 -*-",
      "formats": "ipynb,py:light"
    },
    "kernelspec": {
      "display_name": "Python 3 (ipykernel)",
      "language": "python",
      "name": "python3"
    },
    "language_info": {
      "codemirror_mode": {
        "name": "ipython",
        "version": 3
      },
      "file_extension": ".py",
      "mimetype": "text/x-python",
      "name": "python",
      "nbconvert_exporter": "python",
      "pygments_lexer": "ipython3",
      "version": "3.11.5"
    },
    "toc": {
      "base_numbering": 1,
      "nav_menu": {},
      "number_sections": true,
      "sideBar": true,
      "skip_h1_title": true,
      "title_cell": "Table of Contents",
      "title_sidebar": "Contents",
      "toc_cell": true,
      "toc_position": {
        "height": "calc(100% - 180px)",
        "left": "10px",
        "top": "150px",
        "width": "261.719px"
      },
      "toc_section_display": true,
      "toc_window_display": false
    },
    "varInspector": {
      "cols": {
        "lenName": 16,
        "lenType": 16,
        "lenVar": 40
      },
      "kernels_config": {
        "python": {
          "delete_cmd_postfix": "",
          "delete_cmd_prefix": "del ",
          "library": "var_list.py",
          "varRefreshCmd": "print(var_dic_list())"
        },
        "r": {
          "delete_cmd_postfix": ") ",
          "delete_cmd_prefix": "rm(",
          "library": "var_list.r",
          "varRefreshCmd": "cat(var_dic_list()) "
        }
      },
      "position": {
        "height": "144.4px",
        "left": "1163px",
        "right": "20px",
        "top": "121px",
        "width": "350px"
      },
      "types_to_exclude": [
        "module",
        "function",
        "builtin_function_or_method",
        "instance",
        "_Feature"
      ],
      "window_display": false
    },
    "widgets": {
      "application/vnd.jupyter.widget-state+json": {
        "176561ca50364840847dcfa737489e4a": {
          "model_module": "@jupyter-widgets/controls",
          "model_name": "HBoxModel",
          "model_module_version": "1.5.0",
          "state": {
            "_dom_classes": [],
            "_model_module": "@jupyter-widgets/controls",
            "_model_module_version": "1.5.0",
            "_model_name": "HBoxModel",
            "_view_count": null,
            "_view_module": "@jupyter-widgets/controls",
            "_view_module_version": "1.5.0",
            "_view_name": "HBoxView",
            "box_style": "",
            "children": [
              "IPY_MODEL_d21730e905d14a4da22eeab4841d0ec0",
              "IPY_MODEL_91ecfc3f1fe34513957f43a21666be0c",
              "IPY_MODEL_2574f4ed649b4c0ca8ef3e75549df10e"
            ],
            "layout": "IPY_MODEL_5ce87e3278594f3ca595a3e063b1df7a"
          }
        },
        "d21730e905d14a4da22eeab4841d0ec0": {
          "model_module": "@jupyter-widgets/controls",
          "model_name": "HTMLModel",
          "model_module_version": "1.5.0",
          "state": {
            "_dom_classes": [],
            "_model_module": "@jupyter-widgets/controls",
            "_model_module_version": "1.5.0",
            "_model_name": "HTMLModel",
            "_view_count": null,
            "_view_module": "@jupyter-widgets/controls",
            "_view_module_version": "1.5.0",
            "_view_name": "HTMLView",
            "description": "",
            "description_tooltip": null,
            "layout": "IPY_MODEL_f3c6ba8484c548a097b97e8841d44658",
            "placeholder": "​",
            "style": "IPY_MODEL_44609f08b5424247998ea947a8882c8f",
            "value": "100%"
          }
        },
        "91ecfc3f1fe34513957f43a21666be0c": {
          "model_module": "@jupyter-widgets/controls",
          "model_name": "FloatProgressModel",
          "model_module_version": "1.5.0",
          "state": {
            "_dom_classes": [],
            "_model_module": "@jupyter-widgets/controls",
            "_model_module_version": "1.5.0",
            "_model_name": "FloatProgressModel",
            "_view_count": null,
            "_view_module": "@jupyter-widgets/controls",
            "_view_module_version": "1.5.0",
            "_view_name": "ProgressView",
            "bar_style": "success",
            "description": "",
            "description_tooltip": null,
            "layout": "IPY_MODEL_7284479aa8914f0b8e827758fa227d55",
            "max": 7,
            "min": 0,
            "orientation": "horizontal",
            "style": "IPY_MODEL_723b5e5c42b24c958cbbcef8471d615f",
            "value": 7
          }
        },
        "2574f4ed649b4c0ca8ef3e75549df10e": {
          "model_module": "@jupyter-widgets/controls",
          "model_name": "HTMLModel",
          "model_module_version": "1.5.0",
          "state": {
            "_dom_classes": [],
            "_model_module": "@jupyter-widgets/controls",
            "_model_module_version": "1.5.0",
            "_model_name": "HTMLModel",
            "_view_count": null,
            "_view_module": "@jupyter-widgets/controls",
            "_view_module_version": "1.5.0",
            "_view_name": "HTMLView",
            "description": "",
            "description_tooltip": null,
            "layout": "IPY_MODEL_1cbb1d1a923043209ee82aa520cc4bb3",
            "placeholder": "​",
            "style": "IPY_MODEL_1aacb3b762de40e69213f29224a0675c",
            "value": " 7/7 [05:22&lt;00:00, 83.27s/it]"
          }
        },
        "5ce87e3278594f3ca595a3e063b1df7a": {
          "model_module": "@jupyter-widgets/base",
          "model_name": "LayoutModel",
          "model_module_version": "1.2.0",
          "state": {
            "_model_module": "@jupyter-widgets/base",
            "_model_module_version": "1.2.0",
            "_model_name": "LayoutModel",
            "_view_count": null,
            "_view_module": "@jupyter-widgets/base",
            "_view_module_version": "1.2.0",
            "_view_name": "LayoutView",
            "align_content": null,
            "align_items": null,
            "align_self": null,
            "border": null,
            "bottom": null,
            "display": null,
            "flex": null,
            "flex_flow": null,
            "grid_area": null,
            "grid_auto_columns": null,
            "grid_auto_flow": null,
            "grid_auto_rows": null,
            "grid_column": null,
            "grid_gap": null,
            "grid_row": null,
            "grid_template_areas": null,
            "grid_template_columns": null,
            "grid_template_rows": null,
            "height": null,
            "justify_content": null,
            "justify_items": null,
            "left": null,
            "margin": null,
            "max_height": null,
            "max_width": null,
            "min_height": null,
            "min_width": null,
            "object_fit": null,
            "object_position": null,
            "order": null,
            "overflow": null,
            "overflow_x": null,
            "overflow_y": null,
            "padding": null,
            "right": null,
            "top": null,
            "visibility": null,
            "width": null
          }
        },
        "f3c6ba8484c548a097b97e8841d44658": {
          "model_module": "@jupyter-widgets/base",
          "model_name": "LayoutModel",
          "model_module_version": "1.2.0",
          "state": {
            "_model_module": "@jupyter-widgets/base",
            "_model_module_version": "1.2.0",
            "_model_name": "LayoutModel",
            "_view_count": null,
            "_view_module": "@jupyter-widgets/base",
            "_view_module_version": "1.2.0",
            "_view_name": "LayoutView",
            "align_content": null,
            "align_items": null,
            "align_self": null,
            "border": null,
            "bottom": null,
            "display": null,
            "flex": null,
            "flex_flow": null,
            "grid_area": null,
            "grid_auto_columns": null,
            "grid_auto_flow": null,
            "grid_auto_rows": null,
            "grid_column": null,
            "grid_gap": null,
            "grid_row": null,
            "grid_template_areas": null,
            "grid_template_columns": null,
            "grid_template_rows": null,
            "height": null,
            "justify_content": null,
            "justify_items": null,
            "left": null,
            "margin": null,
            "max_height": null,
            "max_width": null,
            "min_height": null,
            "min_width": null,
            "object_fit": null,
            "object_position": null,
            "order": null,
            "overflow": null,
            "overflow_x": null,
            "overflow_y": null,
            "padding": null,
            "right": null,
            "top": null,
            "visibility": null,
            "width": null
          }
        },
        "44609f08b5424247998ea947a8882c8f": {
          "model_module": "@jupyter-widgets/controls",
          "model_name": "DescriptionStyleModel",
          "model_module_version": "1.5.0",
          "state": {
            "_model_module": "@jupyter-widgets/controls",
            "_model_module_version": "1.5.0",
            "_model_name": "DescriptionStyleModel",
            "_view_count": null,
            "_view_module": "@jupyter-widgets/base",
            "_view_module_version": "1.2.0",
            "_view_name": "StyleView",
            "description_width": ""
          }
        },
        "7284479aa8914f0b8e827758fa227d55": {
          "model_module": "@jupyter-widgets/base",
          "model_name": "LayoutModel",
          "model_module_version": "1.2.0",
          "state": {
            "_model_module": "@jupyter-widgets/base",
            "_model_module_version": "1.2.0",
            "_model_name": "LayoutModel",
            "_view_count": null,
            "_view_module": "@jupyter-widgets/base",
            "_view_module_version": "1.2.0",
            "_view_name": "LayoutView",
            "align_content": null,
            "align_items": null,
            "align_self": null,
            "border": null,
            "bottom": null,
            "display": null,
            "flex": null,
            "flex_flow": null,
            "grid_area": null,
            "grid_auto_columns": null,
            "grid_auto_flow": null,
            "grid_auto_rows": null,
            "grid_column": null,
            "grid_gap": null,
            "grid_row": null,
            "grid_template_areas": null,
            "grid_template_columns": null,
            "grid_template_rows": null,
            "height": null,
            "justify_content": null,
            "justify_items": null,
            "left": null,
            "margin": null,
            "max_height": null,
            "max_width": null,
            "min_height": null,
            "min_width": null,
            "object_fit": null,
            "object_position": null,
            "order": null,
            "overflow": null,
            "overflow_x": null,
            "overflow_y": null,
            "padding": null,
            "right": null,
            "top": null,
            "visibility": null,
            "width": null
          }
        },
        "723b5e5c42b24c958cbbcef8471d615f": {
          "model_module": "@jupyter-widgets/controls",
          "model_name": "ProgressStyleModel",
          "model_module_version": "1.5.0",
          "state": {
            "_model_module": "@jupyter-widgets/controls",
            "_model_module_version": "1.5.0",
            "_model_name": "ProgressStyleModel",
            "_view_count": null,
            "_view_module": "@jupyter-widgets/base",
            "_view_module_version": "1.2.0",
            "_view_name": "StyleView",
            "bar_color": null,
            "description_width": ""
          }
        },
        "1cbb1d1a923043209ee82aa520cc4bb3": {
          "model_module": "@jupyter-widgets/base",
          "model_name": "LayoutModel",
          "model_module_version": "1.2.0",
          "state": {
            "_model_module": "@jupyter-widgets/base",
            "_model_module_version": "1.2.0",
            "_model_name": "LayoutModel",
            "_view_count": null,
            "_view_module": "@jupyter-widgets/base",
            "_view_module_version": "1.2.0",
            "_view_name": "LayoutView",
            "align_content": null,
            "align_items": null,
            "align_self": null,
            "border": null,
            "bottom": null,
            "display": null,
            "flex": null,
            "flex_flow": null,
            "grid_area": null,
            "grid_auto_columns": null,
            "grid_auto_flow": null,
            "grid_auto_rows": null,
            "grid_column": null,
            "grid_gap": null,
            "grid_row": null,
            "grid_template_areas": null,
            "grid_template_columns": null,
            "grid_template_rows": null,
            "height": null,
            "justify_content": null,
            "justify_items": null,
            "left": null,
            "margin": null,
            "max_height": null,
            "max_width": null,
            "min_height": null,
            "min_width": null,
            "object_fit": null,
            "object_position": null,
            "order": null,
            "overflow": null,
            "overflow_x": null,
            "overflow_y": null,
            "padding": null,
            "right": null,
            "top": null,
            "visibility": null,
            "width": null
          }
        },
        "1aacb3b762de40e69213f29224a0675c": {
          "model_module": "@jupyter-widgets/controls",
          "model_name": "DescriptionStyleModel",
          "model_module_version": "1.5.0",
          "state": {
            "_model_module": "@jupyter-widgets/controls",
            "_model_module_version": "1.5.0",
            "_model_name": "DescriptionStyleModel",
            "_view_count": null,
            "_view_module": "@jupyter-widgets/base",
            "_view_module_version": "1.2.0",
            "_view_name": "StyleView",
            "description_width": ""
          }
        },
        "89c3e6280e374b73814c083d06fc2738": {
          "model_module": "@jupyter-widgets/controls",
          "model_name": "HBoxModel",
          "model_module_version": "1.5.0",
          "state": {
            "_dom_classes": [],
            "_model_module": "@jupyter-widgets/controls",
            "_model_module_version": "1.5.0",
            "_model_name": "HBoxModel",
            "_view_count": null,
            "_view_module": "@jupyter-widgets/controls",
            "_view_module_version": "1.5.0",
            "_view_name": "HBoxView",
            "box_style": "",
            "children": [
              "IPY_MODEL_5e67095cd7514f91a21bf131b3e4d6a7",
              "IPY_MODEL_a76e60500aff487a8386cc7d008a9205",
              "IPY_MODEL_3a4d62ea473d4849b4ecdef97626a3ef"
            ],
            "layout": "IPY_MODEL_f4c1909b26f44b9fa7044177c37d7a6a"
          }
        },
        "5e67095cd7514f91a21bf131b3e4d6a7": {
          "model_module": "@jupyter-widgets/controls",
          "model_name": "HTMLModel",
          "model_module_version": "1.5.0",
          "state": {
            "_dom_classes": [],
            "_model_module": "@jupyter-widgets/controls",
            "_model_module_version": "1.5.0",
            "_model_name": "HTMLModel",
            "_view_count": null,
            "_view_module": "@jupyter-widgets/controls",
            "_view_module_version": "1.5.0",
            "_view_name": "HTMLView",
            "description": "",
            "description_tooltip": null,
            "layout": "IPY_MODEL_3dd49de9f5c344fa9c67df3b2954e521",
            "placeholder": "​",
            "style": "IPY_MODEL_44c5a196b4f04eafa550179b4d727f3a",
            "value": "100%"
          }
        },
        "a76e60500aff487a8386cc7d008a9205": {
          "model_module": "@jupyter-widgets/controls",
          "model_name": "FloatProgressModel",
          "model_module_version": "1.5.0",
          "state": {
            "_dom_classes": [],
            "_model_module": "@jupyter-widgets/controls",
            "_model_module_version": "1.5.0",
            "_model_name": "FloatProgressModel",
            "_view_count": null,
            "_view_module": "@jupyter-widgets/controls",
            "_view_module_version": "1.5.0",
            "_view_name": "ProgressView",
            "bar_style": "success",
            "description": "",
            "description_tooltip": null,
            "layout": "IPY_MODEL_edfde0e2d4f845b087d024d6d37f7cf1",
            "max": 7,
            "min": 0,
            "orientation": "horizontal",
            "style": "IPY_MODEL_6a472e4334f9417488394401e0695895",
            "value": 7
          }
        },
        "3a4d62ea473d4849b4ecdef97626a3ef": {
          "model_module": "@jupyter-widgets/controls",
          "model_name": "HTMLModel",
          "model_module_version": "1.5.0",
          "state": {
            "_dom_classes": [],
            "_model_module": "@jupyter-widgets/controls",
            "_model_module_version": "1.5.0",
            "_model_name": "HTMLModel",
            "_view_count": null,
            "_view_module": "@jupyter-widgets/controls",
            "_view_module_version": "1.5.0",
            "_view_name": "HTMLView",
            "description": "",
            "description_tooltip": null,
            "layout": "IPY_MODEL_a7a158caa1224e7a8eac7437ed4cafad",
            "placeholder": "​",
            "style": "IPY_MODEL_0c00093c58b442b189f27ef7f8f5c801",
            "value": " 7/7 [16:55&lt;00:00, 278.36s/it]"
          }
        },
        "f4c1909b26f44b9fa7044177c37d7a6a": {
          "model_module": "@jupyter-widgets/base",
          "model_name": "LayoutModel",
          "model_module_version": "1.2.0",
          "state": {
            "_model_module": "@jupyter-widgets/base",
            "_model_module_version": "1.2.0",
            "_model_name": "LayoutModel",
            "_view_count": null,
            "_view_module": "@jupyter-widgets/base",
            "_view_module_version": "1.2.0",
            "_view_name": "LayoutView",
            "align_content": null,
            "align_items": null,
            "align_self": null,
            "border": null,
            "bottom": null,
            "display": null,
            "flex": null,
            "flex_flow": null,
            "grid_area": null,
            "grid_auto_columns": null,
            "grid_auto_flow": null,
            "grid_auto_rows": null,
            "grid_column": null,
            "grid_gap": null,
            "grid_row": null,
            "grid_template_areas": null,
            "grid_template_columns": null,
            "grid_template_rows": null,
            "height": null,
            "justify_content": null,
            "justify_items": null,
            "left": null,
            "margin": null,
            "max_height": null,
            "max_width": null,
            "min_height": null,
            "min_width": null,
            "object_fit": null,
            "object_position": null,
            "order": null,
            "overflow": null,
            "overflow_x": null,
            "overflow_y": null,
            "padding": null,
            "right": null,
            "top": null,
            "visibility": null,
            "width": null
          }
        },
        "3dd49de9f5c344fa9c67df3b2954e521": {
          "model_module": "@jupyter-widgets/base",
          "model_name": "LayoutModel",
          "model_module_version": "1.2.0",
          "state": {
            "_model_module": "@jupyter-widgets/base",
            "_model_module_version": "1.2.0",
            "_model_name": "LayoutModel",
            "_view_count": null,
            "_view_module": "@jupyter-widgets/base",
            "_view_module_version": "1.2.0",
            "_view_name": "LayoutView",
            "align_content": null,
            "align_items": null,
            "align_self": null,
            "border": null,
            "bottom": null,
            "display": null,
            "flex": null,
            "flex_flow": null,
            "grid_area": null,
            "grid_auto_columns": null,
            "grid_auto_flow": null,
            "grid_auto_rows": null,
            "grid_column": null,
            "grid_gap": null,
            "grid_row": null,
            "grid_template_areas": null,
            "grid_template_columns": null,
            "grid_template_rows": null,
            "height": null,
            "justify_content": null,
            "justify_items": null,
            "left": null,
            "margin": null,
            "max_height": null,
            "max_width": null,
            "min_height": null,
            "min_width": null,
            "object_fit": null,
            "object_position": null,
            "order": null,
            "overflow": null,
            "overflow_x": null,
            "overflow_y": null,
            "padding": null,
            "right": null,
            "top": null,
            "visibility": null,
            "width": null
          }
        },
        "44c5a196b4f04eafa550179b4d727f3a": {
          "model_module": "@jupyter-widgets/controls",
          "model_name": "DescriptionStyleModel",
          "model_module_version": "1.5.0",
          "state": {
            "_model_module": "@jupyter-widgets/controls",
            "_model_module_version": "1.5.0",
            "_model_name": "DescriptionStyleModel",
            "_view_count": null,
            "_view_module": "@jupyter-widgets/base",
            "_view_module_version": "1.2.0",
            "_view_name": "StyleView",
            "description_width": ""
          }
        },
        "edfde0e2d4f845b087d024d6d37f7cf1": {
          "model_module": "@jupyter-widgets/base",
          "model_name": "LayoutModel",
          "model_module_version": "1.2.0",
          "state": {
            "_model_module": "@jupyter-widgets/base",
            "_model_module_version": "1.2.0",
            "_model_name": "LayoutModel",
            "_view_count": null,
            "_view_module": "@jupyter-widgets/base",
            "_view_module_version": "1.2.0",
            "_view_name": "LayoutView",
            "align_content": null,
            "align_items": null,
            "align_self": null,
            "border": null,
            "bottom": null,
            "display": null,
            "flex": null,
            "flex_flow": null,
            "grid_area": null,
            "grid_auto_columns": null,
            "grid_auto_flow": null,
            "grid_auto_rows": null,
            "grid_column": null,
            "grid_gap": null,
            "grid_row": null,
            "grid_template_areas": null,
            "grid_template_columns": null,
            "grid_template_rows": null,
            "height": null,
            "justify_content": null,
            "justify_items": null,
            "left": null,
            "margin": null,
            "max_height": null,
            "max_width": null,
            "min_height": null,
            "min_width": null,
            "object_fit": null,
            "object_position": null,
            "order": null,
            "overflow": null,
            "overflow_x": null,
            "overflow_y": null,
            "padding": null,
            "right": null,
            "top": null,
            "visibility": null,
            "width": null
          }
        },
        "6a472e4334f9417488394401e0695895": {
          "model_module": "@jupyter-widgets/controls",
          "model_name": "ProgressStyleModel",
          "model_module_version": "1.5.0",
          "state": {
            "_model_module": "@jupyter-widgets/controls",
            "_model_module_version": "1.5.0",
            "_model_name": "ProgressStyleModel",
            "_view_count": null,
            "_view_module": "@jupyter-widgets/base",
            "_view_module_version": "1.2.0",
            "_view_name": "StyleView",
            "bar_color": null,
            "description_width": ""
          }
        },
        "a7a158caa1224e7a8eac7437ed4cafad": {
          "model_module": "@jupyter-widgets/base",
          "model_name": "LayoutModel",
          "model_module_version": "1.2.0",
          "state": {
            "_model_module": "@jupyter-widgets/base",
            "_model_module_version": "1.2.0",
            "_model_name": "LayoutModel",
            "_view_count": null,
            "_view_module": "@jupyter-widgets/base",
            "_view_module_version": "1.2.0",
            "_view_name": "LayoutView",
            "align_content": null,
            "align_items": null,
            "align_self": null,
            "border": null,
            "bottom": null,
            "display": null,
            "flex": null,
            "flex_flow": null,
            "grid_area": null,
            "grid_auto_columns": null,
            "grid_auto_flow": null,
            "grid_auto_rows": null,
            "grid_column": null,
            "grid_gap": null,
            "grid_row": null,
            "grid_template_areas": null,
            "grid_template_columns": null,
            "grid_template_rows": null,
            "height": null,
            "justify_content": null,
            "justify_items": null,
            "left": null,
            "margin": null,
            "max_height": null,
            "max_width": null,
            "min_height": null,
            "min_width": null,
            "object_fit": null,
            "object_position": null,
            "order": null,
            "overflow": null,
            "overflow_x": null,
            "overflow_y": null,
            "padding": null,
            "right": null,
            "top": null,
            "visibility": null,
            "width": null
          }
        },
        "0c00093c58b442b189f27ef7f8f5c801": {
          "model_module": "@jupyter-widgets/controls",
          "model_name": "DescriptionStyleModel",
          "model_module_version": "1.5.0",
          "state": {
            "_model_module": "@jupyter-widgets/controls",
            "_model_module_version": "1.5.0",
            "_model_name": "DescriptionStyleModel",
            "_view_count": null,
            "_view_module": "@jupyter-widgets/base",
            "_view_module_version": "1.2.0",
            "_view_name": "StyleView",
            "description_width": ""
          }
        },
        "0f8e0e6e000a4a939a01d2768ceff294": {
          "model_module": "@jupyter-widgets/controls",
          "model_name": "HBoxModel",
          "model_module_version": "1.5.0",
          "state": {
            "_dom_classes": [],
            "_model_module": "@jupyter-widgets/controls",
            "_model_module_version": "1.5.0",
            "_model_name": "HBoxModel",
            "_view_count": null,
            "_view_module": "@jupyter-widgets/controls",
            "_view_module_version": "1.5.0",
            "_view_name": "HBoxView",
            "box_style": "",
            "children": [
              "IPY_MODEL_cdabccf6e487431588d36ce39f4fbfb7",
              "IPY_MODEL_f5795fe3890d44298967b11407a9b620",
              "IPY_MODEL_6ccae51160824f5c96d033b782810a6a"
            ],
            "layout": "IPY_MODEL_353f186485df4820974d42c68af16040"
          }
        },
        "cdabccf6e487431588d36ce39f4fbfb7": {
          "model_module": "@jupyter-widgets/controls",
          "model_name": "HTMLModel",
          "model_module_version": "1.5.0",
          "state": {
            "_dom_classes": [],
            "_model_module": "@jupyter-widgets/controls",
            "_model_module_version": "1.5.0",
            "_model_name": "HTMLModel",
            "_view_count": null,
            "_view_module": "@jupyter-widgets/controls",
            "_view_module_version": "1.5.0",
            "_view_name": "HTMLView",
            "description": "",
            "description_tooltip": null,
            "layout": "IPY_MODEL_dc2815ff5b9d4b4d801dac2bc961cfe6",
            "placeholder": "​",
            "style": "IPY_MODEL_5473242514eb4934a0ff96294e1cc116",
            "value": "100%"
          }
        },
        "f5795fe3890d44298967b11407a9b620": {
          "model_module": "@jupyter-widgets/controls",
          "model_name": "FloatProgressModel",
          "model_module_version": "1.5.0",
          "state": {
            "_dom_classes": [],
            "_model_module": "@jupyter-widgets/controls",
            "_model_module_version": "1.5.0",
            "_model_name": "FloatProgressModel",
            "_view_count": null,
            "_view_module": "@jupyter-widgets/controls",
            "_view_module_version": "1.5.0",
            "_view_name": "ProgressView",
            "bar_style": "success",
            "description": "",
            "description_tooltip": null,
            "layout": "IPY_MODEL_746c26fa749b490abcc35757bbd87733",
            "max": 20,
            "min": 0,
            "orientation": "horizontal",
            "style": "IPY_MODEL_5bc2325dc1fc41bdb82b9d2fb6d9d9bf",
            "value": 20
          }
        },
        "6ccae51160824f5c96d033b782810a6a": {
          "model_module": "@jupyter-widgets/controls",
          "model_name": "HTMLModel",
          "model_module_version": "1.5.0",
          "state": {
            "_dom_classes": [],
            "_model_module": "@jupyter-widgets/controls",
            "_model_module_version": "1.5.0",
            "_model_name": "HTMLModel",
            "_view_count": null,
            "_view_module": "@jupyter-widgets/controls",
            "_view_module_version": "1.5.0",
            "_view_name": "HTMLView",
            "description": "",
            "description_tooltip": null,
            "layout": "IPY_MODEL_8c343a69da9e4763a44fa336635d581e",
            "placeholder": "​",
            "style": "IPY_MODEL_6a7cbb3ce342437ea1956f98c365fc90",
            "value": " 20/20 [01:44&lt;00:00,  5.15s/it]"
          }
        },
        "353f186485df4820974d42c68af16040": {
          "model_module": "@jupyter-widgets/base",
          "model_name": "LayoutModel",
          "model_module_version": "1.2.0",
          "state": {
            "_model_module": "@jupyter-widgets/base",
            "_model_module_version": "1.2.0",
            "_model_name": "LayoutModel",
            "_view_count": null,
            "_view_module": "@jupyter-widgets/base",
            "_view_module_version": "1.2.0",
            "_view_name": "LayoutView",
            "align_content": null,
            "align_items": null,
            "align_self": null,
            "border": null,
            "bottom": null,
            "display": null,
            "flex": null,
            "flex_flow": null,
            "grid_area": null,
            "grid_auto_columns": null,
            "grid_auto_flow": null,
            "grid_auto_rows": null,
            "grid_column": null,
            "grid_gap": null,
            "grid_row": null,
            "grid_template_areas": null,
            "grid_template_columns": null,
            "grid_template_rows": null,
            "height": null,
            "justify_content": null,
            "justify_items": null,
            "left": null,
            "margin": null,
            "max_height": null,
            "max_width": null,
            "min_height": null,
            "min_width": null,
            "object_fit": null,
            "object_position": null,
            "order": null,
            "overflow": null,
            "overflow_x": null,
            "overflow_y": null,
            "padding": null,
            "right": null,
            "top": null,
            "visibility": null,
            "width": null
          }
        },
        "dc2815ff5b9d4b4d801dac2bc961cfe6": {
          "model_module": "@jupyter-widgets/base",
          "model_name": "LayoutModel",
          "model_module_version": "1.2.0",
          "state": {
            "_model_module": "@jupyter-widgets/base",
            "_model_module_version": "1.2.0",
            "_model_name": "LayoutModel",
            "_view_count": null,
            "_view_module": "@jupyter-widgets/base",
            "_view_module_version": "1.2.0",
            "_view_name": "LayoutView",
            "align_content": null,
            "align_items": null,
            "align_self": null,
            "border": null,
            "bottom": null,
            "display": null,
            "flex": null,
            "flex_flow": null,
            "grid_area": null,
            "grid_auto_columns": null,
            "grid_auto_flow": null,
            "grid_auto_rows": null,
            "grid_column": null,
            "grid_gap": null,
            "grid_row": null,
            "grid_template_areas": null,
            "grid_template_columns": null,
            "grid_template_rows": null,
            "height": null,
            "justify_content": null,
            "justify_items": null,
            "left": null,
            "margin": null,
            "max_height": null,
            "max_width": null,
            "min_height": null,
            "min_width": null,
            "object_fit": null,
            "object_position": null,
            "order": null,
            "overflow": null,
            "overflow_x": null,
            "overflow_y": null,
            "padding": null,
            "right": null,
            "top": null,
            "visibility": null,
            "width": null
          }
        },
        "5473242514eb4934a0ff96294e1cc116": {
          "model_module": "@jupyter-widgets/controls",
          "model_name": "DescriptionStyleModel",
          "model_module_version": "1.5.0",
          "state": {
            "_model_module": "@jupyter-widgets/controls",
            "_model_module_version": "1.5.0",
            "_model_name": "DescriptionStyleModel",
            "_view_count": null,
            "_view_module": "@jupyter-widgets/base",
            "_view_module_version": "1.2.0",
            "_view_name": "StyleView",
            "description_width": ""
          }
        },
        "746c26fa749b490abcc35757bbd87733": {
          "model_module": "@jupyter-widgets/base",
          "model_name": "LayoutModel",
          "model_module_version": "1.2.0",
          "state": {
            "_model_module": "@jupyter-widgets/base",
            "_model_module_version": "1.2.0",
            "_model_name": "LayoutModel",
            "_view_count": null,
            "_view_module": "@jupyter-widgets/base",
            "_view_module_version": "1.2.0",
            "_view_name": "LayoutView",
            "align_content": null,
            "align_items": null,
            "align_self": null,
            "border": null,
            "bottom": null,
            "display": null,
            "flex": null,
            "flex_flow": null,
            "grid_area": null,
            "grid_auto_columns": null,
            "grid_auto_flow": null,
            "grid_auto_rows": null,
            "grid_column": null,
            "grid_gap": null,
            "grid_row": null,
            "grid_template_areas": null,
            "grid_template_columns": null,
            "grid_template_rows": null,
            "height": null,
            "justify_content": null,
            "justify_items": null,
            "left": null,
            "margin": null,
            "max_height": null,
            "max_width": null,
            "min_height": null,
            "min_width": null,
            "object_fit": null,
            "object_position": null,
            "order": null,
            "overflow": null,
            "overflow_x": null,
            "overflow_y": null,
            "padding": null,
            "right": null,
            "top": null,
            "visibility": null,
            "width": null
          }
        },
        "5bc2325dc1fc41bdb82b9d2fb6d9d9bf": {
          "model_module": "@jupyter-widgets/controls",
          "model_name": "ProgressStyleModel",
          "model_module_version": "1.5.0",
          "state": {
            "_model_module": "@jupyter-widgets/controls",
            "_model_module_version": "1.5.0",
            "_model_name": "ProgressStyleModel",
            "_view_count": null,
            "_view_module": "@jupyter-widgets/base",
            "_view_module_version": "1.2.0",
            "_view_name": "StyleView",
            "bar_color": null,
            "description_width": ""
          }
        },
        "8c343a69da9e4763a44fa336635d581e": {
          "model_module": "@jupyter-widgets/base",
          "model_name": "LayoutModel",
          "model_module_version": "1.2.0",
          "state": {
            "_model_module": "@jupyter-widgets/base",
            "_model_module_version": "1.2.0",
            "_model_name": "LayoutModel",
            "_view_count": null,
            "_view_module": "@jupyter-widgets/base",
            "_view_module_version": "1.2.0",
            "_view_name": "LayoutView",
            "align_content": null,
            "align_items": null,
            "align_self": null,
            "border": null,
            "bottom": null,
            "display": null,
            "flex": null,
            "flex_flow": null,
            "grid_area": null,
            "grid_auto_columns": null,
            "grid_auto_flow": null,
            "grid_auto_rows": null,
            "grid_column": null,
            "grid_gap": null,
            "grid_row": null,
            "grid_template_areas": null,
            "grid_template_columns": null,
            "grid_template_rows": null,
            "height": null,
            "justify_content": null,
            "justify_items": null,
            "left": null,
            "margin": null,
            "max_height": null,
            "max_width": null,
            "min_height": null,
            "min_width": null,
            "object_fit": null,
            "object_position": null,
            "order": null,
            "overflow": null,
            "overflow_x": null,
            "overflow_y": null,
            "padding": null,
            "right": null,
            "top": null,
            "visibility": null,
            "width": null
          }
        },
        "6a7cbb3ce342437ea1956f98c365fc90": {
          "model_module": "@jupyter-widgets/controls",
          "model_name": "DescriptionStyleModel",
          "model_module_version": "1.5.0",
          "state": {
            "_model_module": "@jupyter-widgets/controls",
            "_model_module_version": "1.5.0",
            "_model_name": "DescriptionStyleModel",
            "_view_count": null,
            "_view_module": "@jupyter-widgets/base",
            "_view_module_version": "1.2.0",
            "_view_name": "StyleView",
            "description_width": ""
          }
        }
      }
    }
  },
  "nbformat": 4,
  "nbformat_minor": 5
}