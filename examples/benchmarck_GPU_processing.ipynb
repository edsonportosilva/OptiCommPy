{
  "cells": [
    {
      "cell_type": "markdown",
      "id": "05e95274",
      "metadata": {},
      "source": [
        "<a href=\"https://colab.research.google.com/github/edsonportosilva/OptiCommPy/blob/main/examples/benchmarck_GPU_processing.ipynb\" target=\"_parent\"><img src=\"https://colab.research.google.com/assets/colab-badge.svg\" alt=\"Open In Colab\"/></a>"
      ]
    },
    {
      "cell_type": "markdown",
      "id": "0270b2b0",
      "metadata": {
        "id": "0270b2b0"
      },
      "source": [
        "# Benchmarck GPU processing\n",
        "\n",
        "In this notebook, a benchmark analysis is conducted to assess the processing time necessary for simulating signal propagation through the nonlinear fiber model, specifically employing the Manakov model. The propagation simulation is implemented numerically, utilizing a split-step Fourier (SSF) algorithm."
      ]
    },
    {
      "cell_type": "code",
      "execution_count": 1,
      "id": "1ca1b9d6",
      "metadata": {
        "ExecuteTime": {
          "end_time": "2024-04-25T14:58:55.184567Z",
          "start_time": "2024-04-25T14:58:55.177057Z"
        },
        "colab": {
          "base_uri": "https://localhost:8080/"
        },
        "id": "1ca1b9d6",
        "outputId": "7b31f437-c9b2-4fab-eb54-20a7c97e0678"
      },
      "outputs": [
        {
          "name": "stdout",
          "output_type": "stream",
          "text": [
            "fatal: destination path 'OptiCommPy' already exists and is not an empty directory.\n",
            "Processing /content/OptiCommPy\n",
            "  Preparing metadata (setup.py) ... \u001b[?25l\u001b[?25hdone\n",
            "Requirement already satisfied: numpy>=1.24.4 in /usr/local/lib/python3.10/dist-packages (from OptiCommPy==0.9.0) (1.24.4)\n",
            "Requirement already satisfied: scipy>=1.13.0 in /usr/local/lib/python3.10/dist-packages (from OptiCommPy==0.9.0) (1.13.1)\n",
            "Requirement already satisfied: matplotlib>=3.7.0 in /usr/local/lib/python3.10/dist-packages (from OptiCommPy==0.9.0) (3.7.1)\n",
            "Requirement already satisfied: sympy in /usr/local/lib/python3.10/dist-packages (from OptiCommPy==0.9.0) (1.13.3)\n",
            "Requirement already satisfied: tqdm>=4.64.1 in /usr/local/lib/python3.10/dist-packages (from OptiCommPy==0.9.0) (4.66.5)\n",
            "Requirement already satisfied: numba<=0.57,>=0.54.0 in /usr/local/lib/python3.10/dist-packages (from OptiCommPy==0.9.0) (0.57.0)\n",
            "Requirement already satisfied: simple-pid>=1.0.1 in /usr/local/lib/python3.10/dist-packages (from OptiCommPy==0.9.0) (2.0.1)\n",
            "Requirement already satisfied: mpl-scatter-density>=0.7.0 in /usr/local/lib/python3.10/dist-packages (from OptiCommPy==0.9.0) (0.7)\n",
            "Requirement already satisfied: sphinx-rtd-theme>=1.2.2 in /usr/local/lib/python3.10/dist-packages (from OptiCommPy==0.9.0) (2.0.0)\n",
            "Requirement already satisfied: nbsphinx>=0.9.3 in /usr/local/lib/python3.10/dist-packages (from OptiCommPy==0.9.0) (0.9.5)\n",
            "Requirement already satisfied: nbsphinx-link>=1.3.0 in /usr/local/lib/python3.10/dist-packages (from OptiCommPy==0.9.0) (1.3.1)\n",
            "Requirement already satisfied: contourpy>=1.0.1 in /usr/local/lib/python3.10/dist-packages (from matplotlib>=3.7.0->OptiCommPy==0.9.0) (1.3.0)\n",
            "Requirement already satisfied: cycler>=0.10 in /usr/local/lib/python3.10/dist-packages (from matplotlib>=3.7.0->OptiCommPy==0.9.0) (0.12.1)\n",
            "Requirement already satisfied: fonttools>=4.22.0 in /usr/local/lib/python3.10/dist-packages (from matplotlib>=3.7.0->OptiCommPy==0.9.0) (4.53.1)\n",
            "Requirement already satisfied: kiwisolver>=1.0.1 in /usr/local/lib/python3.10/dist-packages (from matplotlib>=3.7.0->OptiCommPy==0.9.0) (1.4.7)\n",
            "Requirement already satisfied: packaging>=20.0 in /usr/local/lib/python3.10/dist-packages (from matplotlib>=3.7.0->OptiCommPy==0.9.0) (24.1)\n",
            "Requirement already satisfied: pillow>=6.2.0 in /usr/local/lib/python3.10/dist-packages (from matplotlib>=3.7.0->OptiCommPy==0.9.0) (10.4.0)\n",
            "Requirement already satisfied: pyparsing>=2.3.1 in /usr/local/lib/python3.10/dist-packages (from matplotlib>=3.7.0->OptiCommPy==0.9.0) (3.1.4)\n",
            "Requirement already satisfied: python-dateutil>=2.7 in /usr/local/lib/python3.10/dist-packages (from matplotlib>=3.7.0->OptiCommPy==0.9.0) (2.8.2)\n",
            "Requirement already satisfied: fast-histogram>=0.3 in /usr/local/lib/python3.10/dist-packages (from mpl-scatter-density>=0.7.0->OptiCommPy==0.9.0) (0.14)\n",
            "Requirement already satisfied: docutils>=0.18.1 in /usr/local/lib/python3.10/dist-packages (from nbsphinx>=0.9.3->OptiCommPy==0.9.0) (0.18.1)\n",
            "Requirement already satisfied: jinja2 in /usr/local/lib/python3.10/dist-packages (from nbsphinx>=0.9.3->OptiCommPy==0.9.0) (3.1.4)\n",
            "Requirement already satisfied: nbconvert!=5.4,>=5.3 in /usr/local/lib/python3.10/dist-packages (from nbsphinx>=0.9.3->OptiCommPy==0.9.0) (6.5.4)\n",
            "Requirement already satisfied: traitlets>=5 in /usr/local/lib/python3.10/dist-packages (from nbsphinx>=0.9.3->OptiCommPy==0.9.0) (5.7.1)\n",
            "Requirement already satisfied: nbformat in /usr/local/lib/python3.10/dist-packages (from nbsphinx>=0.9.3->OptiCommPy==0.9.0) (5.10.4)\n",
            "Requirement already satisfied: sphinx>=1.8 in /usr/local/lib/python3.10/dist-packages (from nbsphinx>=0.9.3->OptiCommPy==0.9.0) (5.0.2)\n",
            "Requirement already satisfied: llvmlite<0.41,>=0.40.0dev0 in /usr/local/lib/python3.10/dist-packages (from numba<=0.57,>=0.54.0->OptiCommPy==0.9.0) (0.40.1)\n",
            "Requirement already satisfied: sphinxcontrib-jquery<5,>=4 in /usr/local/lib/python3.10/dist-packages (from sphinx-rtd-theme>=1.2.2->OptiCommPy==0.9.0) (4.1)\n",
            "Requirement already satisfied: mpmath<1.4,>=1.1.0 in /usr/local/lib/python3.10/dist-packages (from sympy->OptiCommPy==0.9.0) (1.3.0)\n",
            "Requirement already satisfied: lxml in /usr/local/lib/python3.10/dist-packages (from nbconvert!=5.4,>=5.3->nbsphinx>=0.9.3->OptiCommPy==0.9.0) (4.9.4)\n",
            "Requirement already satisfied: beautifulsoup4 in /usr/local/lib/python3.10/dist-packages (from nbconvert!=5.4,>=5.3->nbsphinx>=0.9.3->OptiCommPy==0.9.0) (4.12.3)\n",
            "Requirement already satisfied: bleach in /usr/local/lib/python3.10/dist-packages (from nbconvert!=5.4,>=5.3->nbsphinx>=0.9.3->OptiCommPy==0.9.0) (6.1.0)\n",
            "Requirement already satisfied: defusedxml in /usr/local/lib/python3.10/dist-packages (from nbconvert!=5.4,>=5.3->nbsphinx>=0.9.3->OptiCommPy==0.9.0) (0.7.1)\n",
            "Requirement already satisfied: entrypoints>=0.2.2 in /usr/local/lib/python3.10/dist-packages (from nbconvert!=5.4,>=5.3->nbsphinx>=0.9.3->OptiCommPy==0.9.0) (0.4)\n",
            "Requirement already satisfied: jupyter-core>=4.7 in /usr/local/lib/python3.10/dist-packages (from nbconvert!=5.4,>=5.3->nbsphinx>=0.9.3->OptiCommPy==0.9.0) (5.7.2)\n",
            "Requirement already satisfied: jupyterlab-pygments in /usr/local/lib/python3.10/dist-packages (from nbconvert!=5.4,>=5.3->nbsphinx>=0.9.3->OptiCommPy==0.9.0) (0.3.0)\n",
            "Requirement already satisfied: MarkupSafe>=2.0 in /usr/local/lib/python3.10/dist-packages (from nbconvert!=5.4,>=5.3->nbsphinx>=0.9.3->OptiCommPy==0.9.0) (2.1.5)\n",
            "Requirement already satisfied: mistune<2,>=0.8.1 in /usr/local/lib/python3.10/dist-packages (from nbconvert!=5.4,>=5.3->nbsphinx>=0.9.3->OptiCommPy==0.9.0) (0.8.4)\n",
            "Requirement already satisfied: nbclient>=0.5.0 in /usr/local/lib/python3.10/dist-packages (from nbconvert!=5.4,>=5.3->nbsphinx>=0.9.3->OptiCommPy==0.9.0) (0.10.0)\n",
            "Requirement already satisfied: pandocfilters>=1.4.1 in /usr/local/lib/python3.10/dist-packages (from nbconvert!=5.4,>=5.3->nbsphinx>=0.9.3->OptiCommPy==0.9.0) (1.5.1)\n",
            "Requirement already satisfied: pygments>=2.4.1 in /usr/local/lib/python3.10/dist-packages (from nbconvert!=5.4,>=5.3->nbsphinx>=0.9.3->OptiCommPy==0.9.0) (2.18.0)\n",
            "Requirement already satisfied: tinycss2 in /usr/local/lib/python3.10/dist-packages (from nbconvert!=5.4,>=5.3->nbsphinx>=0.9.3->OptiCommPy==0.9.0) (1.3.0)\n",
            "Requirement already satisfied: fastjsonschema>=2.15 in /usr/local/lib/python3.10/dist-packages (from nbformat->nbsphinx>=0.9.3->OptiCommPy==0.9.0) (2.20.0)\n",
            "Requirement already satisfied: jsonschema>=2.6 in /usr/local/lib/python3.10/dist-packages (from nbformat->nbsphinx>=0.9.3->OptiCommPy==0.9.0) (4.23.0)\n",
            "Requirement already satisfied: six>=1.5 in /usr/local/lib/python3.10/dist-packages (from python-dateutil>=2.7->matplotlib>=3.7.0->OptiCommPy==0.9.0) (1.16.0)\n",
            "Requirement already satisfied: sphinxcontrib-applehelp in /usr/local/lib/python3.10/dist-packages (from sphinx>=1.8->nbsphinx>=0.9.3->OptiCommPy==0.9.0) (2.0.0)\n",
            "Requirement already satisfied: sphinxcontrib-devhelp in /usr/local/lib/python3.10/dist-packages (from sphinx>=1.8->nbsphinx>=0.9.3->OptiCommPy==0.9.0) (2.0.0)\n",
            "Requirement already satisfied: sphinxcontrib-jsmath in /usr/local/lib/python3.10/dist-packages (from sphinx>=1.8->nbsphinx>=0.9.3->OptiCommPy==0.9.0) (1.0.1)\n",
            "Requirement already satisfied: sphinxcontrib-htmlhelp>=2.0.0 in /usr/local/lib/python3.10/dist-packages (from sphinx>=1.8->nbsphinx>=0.9.3->OptiCommPy==0.9.0) (2.1.0)\n",
            "Requirement already satisfied: sphinxcontrib-serializinghtml>=1.1.5 in /usr/local/lib/python3.10/dist-packages (from sphinx>=1.8->nbsphinx>=0.9.3->OptiCommPy==0.9.0) (2.0.0)\n",
            "Requirement already satisfied: sphinxcontrib-qthelp in /usr/local/lib/python3.10/dist-packages (from sphinx>=1.8->nbsphinx>=0.9.3->OptiCommPy==0.9.0) (2.0.0)\n",
            "Requirement already satisfied: snowballstemmer>=1.1 in /usr/local/lib/python3.10/dist-packages (from sphinx>=1.8->nbsphinx>=0.9.3->OptiCommPy==0.9.0) (2.2.0)\n",
            "Requirement already satisfied: babel>=1.3 in /usr/local/lib/python3.10/dist-packages (from sphinx>=1.8->nbsphinx>=0.9.3->OptiCommPy==0.9.0) (2.16.0)\n",
            "Requirement already satisfied: alabaster<0.8,>=0.7 in /usr/local/lib/python3.10/dist-packages (from sphinx>=1.8->nbsphinx>=0.9.3->OptiCommPy==0.9.0) (0.7.16)\n",
            "Requirement already satisfied: imagesize in /usr/local/lib/python3.10/dist-packages (from sphinx>=1.8->nbsphinx>=0.9.3->OptiCommPy==0.9.0) (1.4.1)\n",
            "Requirement already satisfied: requests>=2.5.0 in /usr/local/lib/python3.10/dist-packages (from sphinx>=1.8->nbsphinx>=0.9.3->OptiCommPy==0.9.0) (2.32.3)\n",
            "Requirement already satisfied: attrs>=22.2.0 in /usr/local/lib/python3.10/dist-packages (from jsonschema>=2.6->nbformat->nbsphinx>=0.9.3->OptiCommPy==0.9.0) (24.2.0)\n",
            "Requirement already satisfied: jsonschema-specifications>=2023.03.6 in /usr/local/lib/python3.10/dist-packages (from jsonschema>=2.6->nbformat->nbsphinx>=0.9.3->OptiCommPy==0.9.0) (2023.12.1)\n",
            "Requirement already satisfied: referencing>=0.28.4 in /usr/local/lib/python3.10/dist-packages (from jsonschema>=2.6->nbformat->nbsphinx>=0.9.3->OptiCommPy==0.9.0) (0.35.1)\n",
            "Requirement already satisfied: rpds-py>=0.7.1 in /usr/local/lib/python3.10/dist-packages (from jsonschema>=2.6->nbformat->nbsphinx>=0.9.3->OptiCommPy==0.9.0) (0.20.0)\n",
            "Requirement already satisfied: platformdirs>=2.5 in /usr/local/lib/python3.10/dist-packages (from jupyter-core>=4.7->nbconvert!=5.4,>=5.3->nbsphinx>=0.9.3->OptiCommPy==0.9.0) (4.3.6)\n",
            "Requirement already satisfied: jupyter-client>=6.1.12 in /usr/local/lib/python3.10/dist-packages (from nbclient>=0.5.0->nbconvert!=5.4,>=5.3->nbsphinx>=0.9.3->OptiCommPy==0.9.0) (6.1.12)\n",
            "Requirement already satisfied: charset-normalizer<4,>=2 in /usr/local/lib/python3.10/dist-packages (from requests>=2.5.0->sphinx>=1.8->nbsphinx>=0.9.3->OptiCommPy==0.9.0) (3.3.2)\n",
            "Requirement already satisfied: idna<4,>=2.5 in /usr/local/lib/python3.10/dist-packages (from requests>=2.5.0->sphinx>=1.8->nbsphinx>=0.9.3->OptiCommPy==0.9.0) (3.10)\n",
            "Requirement already satisfied: urllib3<3,>=1.21.1 in /usr/local/lib/python3.10/dist-packages (from requests>=2.5.0->sphinx>=1.8->nbsphinx>=0.9.3->OptiCommPy==0.9.0) (2.2.3)\n",
            "Requirement already satisfied: certifi>=2017.4.17 in /usr/local/lib/python3.10/dist-packages (from requests>=2.5.0->sphinx>=1.8->nbsphinx>=0.9.3->OptiCommPy==0.9.0) (2024.8.30)\n",
            "Requirement already satisfied: soupsieve>1.2 in /usr/local/lib/python3.10/dist-packages (from beautifulsoup4->nbconvert!=5.4,>=5.3->nbsphinx>=0.9.3->OptiCommPy==0.9.0) (2.6)\n",
            "Requirement already satisfied: webencodings in /usr/local/lib/python3.10/dist-packages (from bleach->nbconvert!=5.4,>=5.3->nbsphinx>=0.9.3->OptiCommPy==0.9.0) (0.5.1)\n",
            "Requirement already satisfied: pyzmq>=13 in /usr/local/lib/python3.10/dist-packages (from jupyter-client>=6.1.12->nbclient>=0.5.0->nbconvert!=5.4,>=5.3->nbsphinx>=0.9.3->OptiCommPy==0.9.0) (24.0.1)\n",
            "Requirement already satisfied: tornado>=4.1 in /usr/local/lib/python3.10/dist-packages (from jupyter-client>=6.1.12->nbclient>=0.5.0->nbconvert!=5.4,>=5.3->nbsphinx>=0.9.3->OptiCommPy==0.9.0) (6.3.3)\n",
            "Building wheels for collected packages: OptiCommPy\n",
            "  Building wheel for OptiCommPy (setup.py) ... \u001b[?25l\u001b[?25hdone\n",
            "  Created wheel for OptiCommPy: filename=OptiCommPy-0.9.0-py3-none-any.whl size=77755 sha256=85b8b67722fd95cbe86324082499bc6d322e86fc38f34725dde4306fa1569eaf\n",
            "  Stored in directory: /tmp/pip-ephem-wheel-cache-ezkiyd_z/wheels/9e/f3/8b/afabbf8928f62ae99a9b1ff6cd1517ecf94ac8ce265d6f0ae0\n",
            "Successfully built OptiCommPy\n",
            "Installing collected packages: OptiCommPy\n",
            "  Attempting uninstall: OptiCommPy\n",
            "    Found existing installation: OptiCommPy 0.9.0\n",
            "    Uninstalling OptiCommPy-0.9.0:\n",
            "      Successfully uninstalled OptiCommPy-0.9.0\n",
            "Successfully installed OptiCommPy-0.9.0\n"
          ]
        }
      ],
      "source": [
        "if 'google.colab' in str(get_ipython()):\n",
        "    ! git clone -b main https://github.com/edsonportosilva/OptiCommPy\n",
        "    from os import chdir as cd\n",
        "    cd('/content/OptiCommPy/')\n",
        "    ! pip install ."
      ]
    },
    {
      "cell_type": "code",
      "execution_count": 9,
      "id": "a4110d40",
      "metadata": {
        "ExecuteTime": {
          "end_time": "2024-04-25T18:02:44.171366Z",
          "start_time": "2024-04-25T18:02:44.110655Z"
        },
        "id": "a4110d40"
      },
      "outputs": [],
      "source": [
        "import matplotlib.pyplot as plt\n",
        "import numpy as np\n",
        "\n",
        "from optic.models.modelsGPU import manakovSSF as manakovSSF_GPU\n",
        "from optic.models.channels import manakovSSF as manakovSSF_CPU, awgn\n",
        "from optic.dsp.coreGPU import firFilter as firFilter_GPU\n",
        "from optic.dsp.core import firFilter as firFilter_CPU\n",
        "from optic.dsp.carrierRecovery import cpr\n",
        "from optic.models.devices import pdmCoherentReceiver, basicLaserModel\n",
        "from optic.dsp.core import pulseShape, decimate, pnorm, firFilter\n",
        "from optic.models.tx import simpleWDMTx\n",
        "from optic.utils import parameters\n",
        "\n",
        "import logging as logg\n",
        "logg.basicConfig(level=logg.WARN, format='%(message)s', force=True)\n",
        "\n",
        "import time\n",
        "from tqdm.notebook import tqdm"
      ]
    },
    {
      "cell_type": "code",
      "execution_count": 4,
      "id": "7df01820",
      "metadata": {
        "ExecuteTime": {
          "end_time": "2024-04-25T14:58:56.904120Z",
          "start_time": "2024-04-25T14:58:56.898434Z"
        },
        "colab": {
          "base_uri": "https://localhost:8080/",
          "height": 17
        },
        "id": "7df01820",
        "outputId": "3f21c233-8d51-4057-f283-0c7851febc72"
      },
      "outputs": [
        {
          "data": {
            "text/html": [
              "\n",
              "<style>\n",
              ".output_png {\n",
              "    display: table-cell;\n",
              "    text-align: center;\n",
              "    vertical-align: middle;\n",
              "}\n",
              "</style>\n"
            ],
            "text/plain": [
              "<IPython.core.display.HTML object>"
            ]
          },
          "execution_count": 4,
          "metadata": {},
          "output_type": "execute_result"
        }
      ],
      "source": [
        "from IPython.core.display import HTML\n",
        "from IPython.core.pylabtools import figsize\n",
        "\n",
        "HTML(\"\"\"\n",
        "<style>\n",
        ".output_png {\n",
        "    display: table-cell;\n",
        "    text-align: center;\n",
        "    vertical-align: middle;\n",
        "}\n",
        "</style>\n",
        "\"\"\")"
      ]
    },
    {
      "cell_type": "code",
      "execution_count": 5,
      "id": "b8626f68",
      "metadata": {
        "ExecuteTime": {
          "end_time": "2024-04-25T14:58:56.919621Z",
          "start_time": "2024-04-25T14:58:56.905134Z"
        },
        "id": "b8626f68"
      },
      "outputs": [],
      "source": [
        "figsize(10, 3)"
      ]
    },
    {
      "cell_type": "code",
      "execution_count": 6,
      "id": "fc09c144",
      "metadata": {
        "ExecuteTime": {
          "end_time": "2024-04-25T14:58:56.991944Z",
          "start_time": "2024-04-25T14:58:56.920669Z"
        },
        "id": "fc09c144"
      },
      "outputs": [],
      "source": [
        "%load_ext autoreload\n",
        "%autoreload 2\n",
        "#%load_ext line_profiler"
      ]
    },
    {
      "cell_type": "markdown",
      "id": "505eaaa6",
      "metadata": {
        "id": "505eaaa6"
      },
      "source": [
        "## Signal parameters"
      ]
    },
    {
      "cell_type": "code",
      "execution_count": 7,
      "id": "51257869",
      "metadata": {
        "ExecuteTime": {
          "end_time": "2024-04-25T14:58:57.049708Z",
          "start_time": "2024-04-25T14:58:56.992971Z"
        },
        "id": "51257869",
        "lines_to_next_cell": 0
      },
      "outputs": [],
      "source": [
        "# Transmitter parameters:\n",
        "paramTx = parameters()\n",
        "paramTx.M   = 16           # order of the modulation format\n",
        "paramTx.Rs  = 32e9         # symbol rate [baud]\n",
        "paramTx.SpS = 4            # samples per symbol\n",
        "paramTx.pulse = 'rrc'      # pulse shaping filter\n",
        "paramTx.Ntaps = 4096       # number of pulse shaping filter coefficients\n",
        "paramTx.alphaRRC = 0.01    # RRC rolloff\n",
        "paramTx.Pch_dBm = -2       # power per WDM channel [dBm]\n",
        "paramTx.Nch     = 1        # number of WDM channels\n",
        "paramTx.Fc      = 193.1e12 # central optical frequency of the WDM spectrum\n",
        "paramTx.lw      = 100e3    # laser linewidth in Hz\n",
        "paramTx.freqSpac = 37.5e9  # WDM grid spacing\n",
        "paramTx.Nmodes = 2         # number of signal modes [2 for polarization multiplexed signals]\n",
        "paramTx.prgsBar = False    # show progress bar\n",
        "\n",
        "# optical channel parameters\n",
        "paramCh = parameters()\n",
        "paramCh.Ltotal = 500     # total link distance [km]\n",
        "paramCh.Lspan  = 50      # span length [km]\n",
        "paramCh.alpha = 0.2      # fiber loss parameter [dB/km]\n",
        "paramCh.D = 16           # fiber dispersion parameter [ps/nm/km]\n",
        "paramCh.gamma = 1.3      # fiber nonlinear parameter [1/(W.km)]\n",
        "paramCh.Fc = paramTx.Fc  # central optical frequency of the WDM spectrum\n",
        "paramCh.hz = 0.5         # step-size of the split-step Fourier method [km]\n",
        "paramCh.maxIter = 5      # maximum number of convergence iterations per step\n",
        "paramCh.tol = 1e-5       # error tolerance per step\n",
        "paramCh.nlprMethod = True # use adaptive step-size based o maximum nonlinear phase-shift\n",
        "paramCh.maxNlinPhaseRot = 2e-2 # maximum nonlinear phase-shift per step\n",
        "paramCh.prgsBar = False   # show progress bar\n",
        "#paramCh.saveSpanN = [1, 5, 9, 14]\n",
        "paramCh.Fs = paramTx.Rs*paramTx.SpS # sampling rate"
      ]
    },
    {
      "cell_type": "markdown",
      "id": "7a60e0ae",
      "metadata": {
        "id": "7a60e0ae"
      },
      "source": [
        "## Compare CPU vs GPU processing\n",
        "\n",
        "### manakovSSF"
      ]
    },
    {
      "cell_type": "code",
      "execution_count": null,
      "id": "05599d49",
      "metadata": {
        "ExecuteTime": {
          "end_time": "2024-04-25T15:04:09.778622Z",
          "start_time": "2024-04-25T14:58:57.109049Z"
        },
        "colab": {
          "base_uri": "https://localhost:8080/",
          "height": 49,
          "referenced_widgets": [
            "176561ca50364840847dcfa737489e4a",
            "d21730e905d14a4da22eeab4841d0ec0",
            "91ecfc3f1fe34513957f43a21666be0c",
            "2574f4ed649b4c0ca8ef3e75549df10e",
            "5ce87e3278594f3ca595a3e063b1df7a",
            "f3c6ba8484c548a097b97e8841d44658",
            "44609f08b5424247998ea947a8882c8f",
            "7284479aa8914f0b8e827758fa227d55",
            "723b5e5c42b24c958cbbcef8471d615f",
            "1cbb1d1a923043209ee82aa520cc4bb3",
            "1aacb3b762de40e69213f29224a0675c"
          ]
        },
        "id": "05599d49",
        "outputId": "1c01ab7b-22c6-4454-9e17-f8a689e7f479",
        "scrolled": false
      },
      "outputs": [
        {
          "data": {
            "application/vnd.jupyter.widget-view+json": {
              "model_id": "176561ca50364840847dcfa737489e4a",
              "version_major": 2,
              "version_minor": 0
            },
            "text/plain": [
              "  0%|          | 0/7 [00:00<?, ?it/s]"
            ]
          },
          "metadata": {},
          "output_type": "display_data"
        }
      ],
      "source": [
        "numberOfSymbols = np.array([5e3, 1e4, 2e4, 5e4, 1e5, 2e5, 5e5])\n",
        "\n",
        "timeCPU = np.zeros(len(numberOfSymbols))\n",
        "timeGPU = np.zeros(len(numberOfSymbols))\n",
        "\n",
        "paramTx.Pch_dBm = -2 # power per WDM channel [dBm]\n",
        "\n",
        "for idx, Nsymb in enumerate(tqdm(numberOfSymbols)):\n",
        "    paramTx.Nbits = int(np.log2(paramTx.M)*Nsymb) # total number of bits per polarization\n",
        "    # generate WDM signal\n",
        "    sigWDM_Tx, symbTx_, paramTx = simpleWDMTx(paramTx)\n",
        "\n",
        "    # nonlinear signal propagation\n",
        "    start = time.time()\n",
        "    sigWDM = manakovSSF_CPU(sigWDM_Tx, paramCh)\n",
        "    end = time.time()\n",
        "    timeCPU[idx] = end - start\n",
        "\n",
        "    # nonlinear signal propagation\n",
        "    start = time.time()\n",
        "    sigWDM = manakovSSF_GPU(sigWDM_Tx, paramCh)\n",
        "    end = time.time()\n",
        "    timeGPU[idx] = end - start"
      ]
    },
    {
      "cell_type": "code",
      "execution_count": null,
      "id": "2305681b",
      "metadata": {
        "ExecuteTime": {
          "end_time": "2024-04-25T15:04:10.164461Z",
          "start_time": "2024-04-25T15:04:09.779618Z"
        },
        "colab": {
          "base_uri": "https://localhost:8080/",
          "height": 627
        },
        "id": "2305681b",
        "outputId": "5cbaa77c-7172-439a-b9ff-36d9f6f47d85"
      },
      "outputs": [
        {
          "data": {
            "image/png": "[encoded data removed]",
            "text/plain": [
              "<Figure size 1000x300 with 1 Axes>"
            ]
          },
          "metadata": {},
          "output_type": "display_data"
        },
        {
          "data": {
            "image/png": "[encoded data removed]",
            "text/plain": [
              "<Figure size 1000x300 with 1 Axes>"
            ]
          },
          "metadata": {},
          "output_type": "display_data"
        }
      ],
      "source": [
        "signalLength = numberOfSymbols*paramTx.SpS\n",
        "\n",
        "plt.plot(signalLength, timeCPU,'-o', label='CPU')\n",
        "plt.plot(signalLength, timeGPU,'-s', label='GPU')\n",
        "plt.xlabel('Length of the signal (number of samples)')\n",
        "plt.ylabel('Processing time (s)')\n",
        "plt.title(f'Launch power {paramTx.Pch_dBm:.2f} dBm')\n",
        "plt.legend()\n",
        "plt.grid()\n",
        "plt.xlim(min(signalLength), max(signalLength))\n",
        "\n",
        "plt.figure()\n",
        "plt.plot(signalLength, timeCPU/timeGPU,'-o', label='GPU speedup')\n",
        "plt.xlabel('Length of the signal (number of samples)')\n",
        "plt.ylabel('GPU speedup ($\\times$)')\n",
        "plt.legend()\n",
        "plt.grid()\n",
        "plt.xlim(min(signalLength), max(signalLength));"
      ]
    },
    {
      "cell_type": "code",
      "execution_count": null,
      "id": "8fcecef1",
      "metadata": {
        "ExecuteTime": {
          "end_time": "2024-04-25T15:22:16.469054Z",
          "start_time": "2024-04-25T15:04:10.166461Z"
        },
        "colab": {
          "base_uri": "https://localhost:8080/",
          "height": 49,
          "referenced_widgets": [
            "89c3e6280e374b73814c083d06fc2738",
            "5e67095cd7514f91a21bf131b3e4d6a7",
            "a76e60500aff487a8386cc7d008a9205",
            "3a4d62ea473d4849b4ecdef97626a3ef",
            "f4c1909b26f44b9fa7044177c37d7a6a",
            "3dd49de9f5c344fa9c67df3b2954e521",
            "44c5a196b4f04eafa550179b4d727f3a",
            "edfde0e2d4f845b087d024d6d37f7cf1",
            "6a472e4334f9417488394401e0695895",
            "a7a158caa1224e7a8eac7437ed4cafad",
            "0c00093c58b442b189f27ef7f8f5c801"
          ]
        },
        "id": "8fcecef1",
        "outputId": "aecd3426-1412-491a-bbfc-dd89f4bbe140"
      },
      "outputs": [
        {
          "data": {
            "application/vnd.jupyter.widget-view+json": {
              "model_id": "89c3e6280e374b73814c083d06fc2738",
              "version_major": 2,
              "version_minor": 0
            },
            "text/plain": [
              "  0%|          | 0/7 [00:00<?, ?it/s]"
            ]
          },
          "metadata": {},
          "output_type": "display_data"
        }
      ],
      "source": [
        "timeCPU = np.zeros(len(numberOfSymbols))\n",
        "timeGPU = np.zeros(len(numberOfSymbols))\n",
        "\n",
        "paramTx.Pch_dBm = 4 # power per WDM channel [dBm]\n",
        "\n",
        "for idx, Nsymb in enumerate(tqdm(numberOfSymbols)):\n",
        "    paramTx.Nbits = int(np.log2(paramTx.M)*Nsymb) # total number of bits per polarization\n",
        "    # generate WDM signal\n",
        "    sigWDM_Tx, symbTx_, paramTx = simpleWDMTx(paramTx)\n",
        "\n",
        "    # nonlinear signal propagation\n",
        "    start = time.time()\n",
        "    sigWDM = manakovSSF_CPU(sigWDM_Tx, paramCh)\n",
        "    end = time.time()\n",
        "    timeCPU[idx] = end - start\n",
        "\n",
        "    # nonlinear signal propagation\n",
        "    start = time.time()\n",
        "    sigWDM = manakovSSF_GPU(sigWDM_Tx, paramCh)\n",
        "    end = time.time()\n",
        "    timeGPU[idx] = end - start"
      ]
    },
    {
      "cell_type": "code",
      "execution_count": null,
      "id": "781f35cd",
      "metadata": {
        "ExecuteTime": {
          "end_time": "2024-04-25T15:22:56.520985Z",
          "start_time": "2024-04-25T15:22:56.148417Z"
        },
        "colab": {
          "base_uri": "https://localhost:8080/",
          "height": 630
        },
        "id": "781f35cd",
        "outputId": "3db94e59-3b02-4d44-d492-ac807dd55780"
      },
      "outputs": [
        {
          "data": {
            "image/png": "[encoded data removed]",
            "text/plain": [
              "<Figure size 1000x300 with 1 Axes>"
            ]
          },
          "metadata": {},
          "output_type": "display_data"
        },
        {
          "data": {
            "image/png": "[encoded data removed]",
            "text/plain": [
              "<Figure size 1000x300 with 1 Axes>"
            ]
          },
          "metadata": {},
          "output_type": "display_data"
        }
      ],
      "source": [
        "signalLength = numberOfSymbols*paramTx.SpS\n",
        "\n",
        "plt.plot(signalLength, timeCPU,'-o', label='CPU')\n",
        "plt.plot(signalLength, timeGPU,'-s', label='GPU')\n",
        "plt.xlabel('Length of the signal (number of samples)')\n",
        "plt.ylabel('Processing time (s)')\n",
        "plt.title(f'Launch power {paramTx.Pch_dBm:.2f} dBm')\n",
        "plt.legend()\n",
        "plt.grid()\n",
        "plt.xlim(min(signalLength), max(signalLength))\n",
        "\n",
        "\n",
        "plt.figure()\n",
        "plt.plot(signalLength, timeCPU/timeGPU,'-o', label='GPU speedup')\n",
        "plt.xlabel('Length of the signal (number of samples)')\n",
        "plt.ylabel('GPU speedup ($\\\\times$)')\n",
        "plt.legend()\n",
        "plt.grid()\n",
        "plt.xlim(min(signalLength), max(signalLength));"
      ]
    },
    {
      "cell_type": "markdown",
      "id": "5d3e5431",
      "metadata": {
        "id": "5d3e5431"
      },
      "source": [
        "### Compilation of results (length of the signal $>10^6$ samples)\n",
        "\n",
        "\n",
        "| System configuration                     | GPU improvement  |\n",
        "|:-----------------------------------|:------------------|\n",
        "|Windows 64 bits Intel(R) Core(TM) i7-9700 CPU 3.00 GHz RAM 16.0 GB NVIDIA GeForce GTX 1060 6GB CUDA Version: 12.4| $\\approx$ 17.5 - 20x|\n",
        "|Google Colab System RAM 12.7 GB NVIDIA Tesla T4 15GB CUDA Version: 12.2| $\\approx$  25x|"
      ]
    },
    {
      "cell_type": "markdown",
      "id": "19046846",
      "metadata": {
        "id": "19046846"
      },
      "source": [
        "### firFilter"
      ]
    },
    {
      "cell_type": "code",
      "execution_count": null,
      "id": "1dcd4967",
      "metadata": {
        "ExecuteTime": {
          "end_time": "2024-04-25T18:11:11.465737Z",
          "start_time": "2024-04-25T18:09:51.205904Z"
        },
        "colab": {
          "base_uri": "https://localhost:8080/",
          "height": 49,
          "referenced_widgets": [
            "0f8e0e6e000a4a939a01d2768ceff294",
            "cdabccf6e487431588d36ce39f4fbfb7",
            "f5795fe3890d44298967b11407a9b620",
            "6ccae51160824f5c96d033b782810a6a",
            "353f186485df4820974d42c68af16040",
            "dc2815ff5b9d4b4d801dac2bc961cfe6",
            "5473242514eb4934a0ff96294e1cc116",
            "746c26fa749b490abcc35757bbd87733",
            "5bc2325dc1fc41bdb82b9d2fb6d9d9bf",
            "8c343a69da9e4763a44fa336635d581e",
            "6a7cbb3ce342437ea1956f98c365fc90"
          ]
        },
        "id": "1dcd4967",
        "outputId": "5d0c2306-8a6c-4a1c-cf98-12c20d848bd5"
      },
      "outputs": [
        {
          "data": {
            "application/vnd.jupyter.widget-view+json": {
              "model_id": "0f8e0e6e000a4a939a01d2768ceff294",
              "version_major": 2,
              "version_minor": 0
            },
            "text/plain": [
              "  0%|          | 0/20 [00:00<?, ?it/s]"
            ]
          },
          "metadata": {},
          "output_type": "display_data"
        }
      ],
      "source": [
        "h = pulseShape('rrc')\n",
        "numberOfSymbols = np.array([5e3, 1e4, 2e4, 5e4, 1e5, 2e5, 5e5])\n",
        "\n",
        "timeCPU = np.zeros(len(numberOfSymbols))\n",
        "timeGPU = np.zeros(len(numberOfSymbols))\n",
        "\n",
        "nTrials = 20\n",
        "\n",
        "for _ in tqdm(range(nTrials)):\n",
        "    for idx, Nsymb in enumerate(numberOfSymbols):\n",
        "        paramTx.Nbits = int(np.log2(paramTx.M)*Nsymb) # total number of bits per polarization\n",
        "        # generate WDM signal\n",
        "        sigWDM_Tx, symbTx_, paramTx = simpleWDMTx(paramTx)\n",
        "\n",
        "        # fir filtering\n",
        "        start = time.time()\n",
        "        sigFilt = firFilter_CPU(h, sigWDM_Tx)\n",
        "        end = time.time()\n",
        "        timeCPU[idx] += end - start\n",
        "\n",
        "        # fir filtering\n",
        "        start = time.time()\n",
        "        sigFilt = firFilter_GPU(h, sigWDM_Tx)\n",
        "        end = time.time()\n",
        "        timeGPU[idx] += end - start\n",
        "\n",
        "timeGPU /= nTrials\n",
        "timeCPU /= nTrials"
      ]
    },
    {
      "cell_type": "code",
      "execution_count": null,
      "id": "3e683374",
      "metadata": {
        "ExecuteTime": {
          "end_time": "2024-04-25T18:11:11.800623Z",
          "start_time": "2024-04-25T18:11:11.466736Z"
        },
        "colab": {
          "base_uri": "https://localhost:8080/",
          "height": 609
        },
        "id": "3e683374",
        "outputId": "ed883d85-9f76-4449-9e3d-2a18b384cd30"
      },
      "outputs": [
        {
          "data": {
            "image/png": "[encoded data removed]",
            "text/plain": [
              "<Figure size 1000x300 with 1 Axes>"
            ]
          },
          "metadata": {},
          "output_type": "display_data"
        },
        {
          "data": {
            "image/png": "[encoded data removed]",
            "text/plain": [
              "<Figure size 1000x300 with 1 Axes>"
            ]
          },
          "metadata": {},
          "output_type": "display_data"
        }
      ],
      "source": [
        "signalLength = numberOfSymbols*paramTx.SpS\n",
        "\n",
        "plt.plot(signalLength, timeCPU,'-o', label='CPU')\n",
        "plt.plot(signalLength, timeGPU,'-s', label='GPU')\n",
        "plt.xlabel('Length of the signal (number of samples)')\n",
        "plt.ylabel('Processing time (s)')\n",
        "plt.legend()\n",
        "plt.grid()\n",
        "plt.xlim(min(signalLength), max(signalLength))\n",
        "\n",
        "\n",
        "plt.figure()\n",
        "plt.plot(signalLength, timeCPU/timeGPU,'-o', label='GPU speedup')\n",
        "plt.xlabel('Length of the signal (number of samples)')\n",
        "plt.ylabel('GPU speedup ($\\\\times$)')\n",
        "plt.legend()\n",
        "plt.grid()\n",
        "plt.xlim(min(signalLength), max(signalLength));"
      ]
    },
    {
      "cell_type": "markdown",
      "id": "99654013",
      "metadata": {
        "id": "99654013"
      },
      "source": [
        "### Compilation of results (length of the signal $>10^6$ samples)\n",
        "\n",
        "\n",
        "| System configuration                     | GPU improvement  |\n",
        "|:-----------------------------------|:------------------|\n",
        "|Windows 64 bits Intel(R) Core(TM) i7-9700 CPU 3.00 GHz RAM 16.0 GB NVIDIA GeForce GTX 1060 6GB CUDA Version: 12.4| $\\approx$ 16x|\n",
        "|Google Colab System RAM 12.7 GB NVIDIA Tesla T4 15GB CUDA Version: 12.2| $\\approx$ 20x|"
      ]
    },
    {
      "cell_type": "markdown",
      "id": "g6V6G_DpqQGv",
      "metadata": {
        "id": "g6V6G_DpqQGv"
      },
      "source": [
        "### Carrier phase recovery BPS algorithm"
      ]
    },
    {
      "cell_type": "code",
      "execution_count": 10,
      "id": "e3d065d7",
      "metadata": {
        "colab": {
          "base_uri": "https://localhost:8080/",
          "height": 49,
          "referenced_widgets": [
            "923797260e304b308829c42688da436a",
            "903eddf0188f476690585d8251514265",
            "2c32f566ba2444fab7f172101c985648",
            "416db600e63a4657a0124e47c4a04cfa",
            "80ff671a781c4a409f2fc9c5a3fa59f6",
            "dd4a8c8d39bc40bc87070222d426443d",
            "13b6f5156d9a40a097d0940ed8813ed2",
            "bf1318c47e4b4143b5e7ccb053fbf35a",
            "c474d9d812154f0eb4eaa365635216a4",
            "ec608a71d239480284419f102f08d790",
            "4a362f2a5a67493d8090e5536abbf289"
          ]
        },
        "id": "e3d065d7",
        "outputId": "cf24a4ae-d286-42fe-93a6-edec8efd64de"
      },
      "outputs": [
        {
          "data": {
            "application/vnd.jupyter.widget-view+json": {
              "model_id": "923797260e304b308829c42688da436a",
              "version_major": 2,
              "version_minor": 0
            },
            "text/plain": [
              "  0%|          | 0/20 [00:00<?, ?it/s]"
            ]
          },
          "metadata": {},
          "output_type": "display_data"
        }
      ],
      "source": [
        "numberOfSymbols = np.array([5e3, 1e4, 2e4, 5e4, 1e5, 2e5])\n",
        "\n",
        "timeCPU = np.zeros(len(numberOfSymbols))\n",
        "timeGPU = np.zeros(len(numberOfSymbols))\n",
        "\n",
        "nTrials = 20\n",
        "\n",
        "for _ in tqdm(range(nTrials)):\n",
        "    for idx, Nsymb in enumerate(numberOfSymbols):\n",
        "        paramTx.Nbits = int(np.log2(paramTx.M)*Nsymb) # total number of bits per polarization\n",
        "        # generate WDM signal\n",
        "        sigWDM_Tx, symbTx_, paramTx = simpleWDMTx(paramTx)\n",
        "\n",
        "        SNRdB = 15\n",
        "        sigCh = awgn(sigWDM_Tx, SNRdB, paramCh.Fs, paramTx.Rs)\n",
        "\n",
        "        # parameters\n",
        "        chIndex  = 0    # index of the channel to be demodulated\n",
        "\n",
        "        freqGrid = paramTx.freqGrid\n",
        "        π  = np.pi\n",
        "        t  = np.arange(0, len(sigCh))*1/paramCh.Fs\n",
        "\n",
        "        symbTx = symbTx_[:,:,chIndex]\n",
        "\n",
        "        # local oscillator (LO) parameters:\n",
        "        FO      = 60e6                  # frequency offset\n",
        "        Δf_lo   = freqGrid[chIndex]+FO  # downshift of the channel to be demodulated\n",
        "\n",
        "        # generate CW laser LO field\n",
        "        paramLO = parameters()\n",
        "        paramLO.P = 10              # power in dBm\n",
        "        paramLO.lw = 100e3          # laser linewidth\n",
        "        paramLO.RIN_var = 0\n",
        "        paramLO.Ns = len(sigCh)\n",
        "        paramLO.Fs = paramCh.Fs\n",
        "\n",
        "        sigLO = basicLaserModel(paramLO)\n",
        "        sigLO = sigLO*np.exp(1j*2*π*Δf_lo*t) # add frequency offset\n",
        "\n",
        "        # polarization multiplexed coherent optical receiver\n",
        "        sigRx = pdmCoherentReceiver(sigCh, sigLO, θsig = 0)\n",
        "\n",
        "        # Rx filtering\n",
        "\n",
        "        # Matched filtering\n",
        "        if paramTx.pulse == 'nrz':\n",
        "            pulse = pulseShape('nrz', paramTx.SpS)\n",
        "        elif paramTx.pulse == 'rrc':\n",
        "            pulse = pulseShape('rrc', paramTx.SpS, N=paramTx.Ntaps, alpha=paramTx.alphaRRC, Ts=1/paramTx.Rs)\n",
        "\n",
        "        pulse = pnorm(pulse)\n",
        "        sigRx = firFilter(pulse, sigRx)\n",
        "\n",
        "        # decimation\n",
        "        paramDec = parameters()\n",
        "        paramDec.SpS_in  = paramTx.SpS\n",
        "        paramDec.SpS_out = 1\n",
        "        sigRx = decimate(sigRx, paramDec)\n",
        "\n",
        "        # run BPS CPU\n",
        "        paramCPR = parameters()\n",
        "        paramCPR.alg = 'bps'\n",
        "        paramCPR.M   = paramTx.M\n",
        "        paramCPR.constType = paramTx.constType\n",
        "        paramCPR.N   = 85\n",
        "        paramCPR.B   = 64\n",
        "        paramCPR.returnPhases = True\n",
        "\n",
        "        start = time.time()\n",
        "        y_CPR, phi = cpr(sigRx, paramCPR)\n",
        "        end = time.time()\n",
        "        timeCPU[idx] = end - start\n",
        "\n",
        "        # run BPS GPU\n",
        "        paramCPR = parameters()\n",
        "        paramCPR.alg = 'bpsGPU'\n",
        "        paramCPR.M   = paramTx.M\n",
        "        paramCPR.constType = paramTx.constType\n",
        "        paramCPR.N   = 85\n",
        "        paramCPR.B   = 64\n",
        "        paramCPR.returnPhases = True\n",
        "\n",
        "        start = time.time()\n",
        "        y_CPR, phi = cpr(sigRx, paramCPR)\n",
        "        end = time.time()\n",
        "        timeGPU[idx] = end - start"
      ]
    },
    {
      "cell_type": "code",
      "execution_count": 16,
      "id": "ixFeCXfOuKcT",
      "metadata": {
        "colab": {
          "base_uri": "https://localhost:8080/",
          "height": 605
        },
        "id": "ixFeCXfOuKcT",
        "outputId": "fe8566b8-2f45-4806-91cd-f9fd6f69ad37"
      },
      "outputs": [
        {
          "data": {
            "image/png": "[encoded data removed]",
            "text/plain": [
              "<Figure size 1000x300 with 1 Axes>"
            ]
          },
          "metadata": {},
          "output_type": "display_data"
        },
        {
          "data": {
            "image/png": "[encoded data removed]",
            "text/plain": [
              "<Figure size 1000x300 with 1 Axes>"
            ]
          },
          "metadata": {},
          "output_type": "display_data"
        }
      ],
      "source": [
        "plt.plot(numberOfSymbols, timeCPU, '-o', linewidth=1.8, label='CPU')\n",
        "plt.plot(numberOfSymbols, timeGPU, '-s', linewidth=1.8, label='GPU')\n",
        "plt.xlabel('Length of the signal (number of samples)')\n",
        "plt.ylabel('Processing time (s)')\n",
        "plt.legend()\n",
        "plt.grid()\n",
        "plt.xlim(min(numberOfSymbols), max(numberOfSymbols));\n",
        "\n",
        "plt.figure()\n",
        "plt.plot(numberOfSymbols, timeCPU/timeGPU,'-o', label='GPU speedup')\n",
        "plt.xlabel('Length of the signal (number of samples)')\n",
        "plt.ylabel('GPU speedup ($\\\\times$)')\n",
        "plt.legend()\n",
        "plt.grid()\n",
        "plt.xlim(min(numberOfSymbols), max(numberOfSymbols));"
      ]
    },
    {
      "cell_type": "markdown",
      "id": "8mSXrwtiyvLf",
      "metadata": {
        "id": "8mSXrwtiyvLf"
      },
      "source": [
        "### Compilation of results (length of the signal $>10^5$ samples)\n",
        "\n",
        "| System configuration                     | GPU improvement  |\n",
        "|:-----------------------------------|:------------------|\n",
        "|Google Colab System RAM 12.7 GB NVIDIA Tesla T4 15GB CUDA Version: 12.2| $\\approx$ 19x|"
      ]
    }
  ],
  "metadata": {
    "accelerator": "GPU",
    "colab": {
      "provenance": []
    },
    "jupytext": {
      "encoding": "# -*- coding: utf-8 -*-",
      "formats": "ipynb,py:light"
    },
    "kernelspec": {
      "display_name": "Python 3 (ipykernel)",
      "language": "python",
      "name": "python3"
    },
    "language_info": {
      "codemirror_mode": {
        "name": "ipython",
        "version": 3
      },
      "file_extension": ".py",
      "mimetype": "text/x-python",
      "name": "python",
      "nbconvert_exporter": "python",
      "pygments_lexer": "ipython3",
      "version": "3.11.5"
    },
    "toc": {
      "base_numbering": 1,
      "nav_menu": {},
      "number_sections": true,
      "sideBar": true,
      "skip_h1_title": true,
      "title_cell": "Table of Contents",
      "title_sidebar": "Contents",
      "toc_cell": true,
      "toc_position": {
        "height": "calc(100% - 180px)",
        "left": "10px",
        "top": "150px",
        "width": "261.719px"
      },
      "toc_section_display": true,
      "toc_window_display": false
    },
    "varInspector": {
      "cols": {
        "lenName": 16,
        "lenType": 16,
        "lenVar": 40
      },
      "kernels_config": {
        "python": {
          "delete_cmd_postfix": "",
          "delete_cmd_prefix": "del ",
          "library": "var_list.py",
          "varRefreshCmd": "print(var_dic_list())"
        },
        "r": {
          "delete_cmd_postfix": ") ",
          "delete_cmd_prefix": "rm(",
          "library": "var_list.r",
          "varRefreshCmd": "cat(var_dic_list()) "
        }
      },
      "position": {
        "height": "144.4px",
        "left": "1163px",
        "right": "20px",
        "top": "121px",
        "width": "350px"
      },
      "types_to_exclude": [
        "module",
        "function",
        "builtin_function_or_method",
        "instance",
        "_Feature"
      ],
      "window_display": false
    },
    "widgets": {
      "application/vnd.jupyter.widget-state+json": {
        "0c00093c58b442b189f27ef7f8f5c801": {
          "model_module": "@jupyter-widgets/controls",
          "model_module_version": "1.5.0",
          "model_name": "DescriptionStyleModel",
          "state": {
            "_model_module": "@jupyter-widgets/controls",
            "_model_module_version": "1.5.0",
            "_model_name": "DescriptionStyleModel",
            "_view_count": null,
            "_view_module": "@jupyter-widgets/base",
            "_view_module_version": "1.2.0",
            "_view_name": "StyleView",
            "description_width": ""
          }
        },
        "0f8e0e6e000a4a939a01d2768ceff294": {
          "model_module": "@jupyter-widgets/controls",
          "model_module_version": "1.5.0",
          "model_name": "HBoxModel",
          "state": {
            "_dom_classes": [],
            "_model_module": "@jupyter-widgets/controls",
            "_model_module_version": "1.5.0",
            "_model_name": "HBoxModel",
            "_view_count": null,
            "_view_module": "@jupyter-widgets/controls",
            "_view_module_version": "1.5.0",
            "_view_name": "HBoxView",
            "box_style": "",
            "children": [
              "IPY_MODEL_cdabccf6e487431588d36ce39f4fbfb7",
              "IPY_MODEL_f5795fe3890d44298967b11407a9b620",
              "IPY_MODEL_6ccae51160824f5c96d033b782810a6a"
            ],
            "layout": "IPY_MODEL_353f186485df4820974d42c68af16040"
          }
        },
        "13b6f5156d9a40a097d0940ed8813ed2": {
          "model_module": "@jupyter-widgets/controls",
          "model_module_version": "1.5.0",
          "model_name": "DescriptionStyleModel",
          "state": {
            "_model_module": "@jupyter-widgets/controls",
            "_model_module_version": "1.5.0",
            "_model_name": "DescriptionStyleModel",
            "_view_count": null,
            "_view_module": "@jupyter-widgets/base",
            "_view_module_version": "1.2.0",
            "_view_name": "StyleView",
            "description_width": ""
          }
        },
        "176561ca50364840847dcfa737489e4a": {
          "model_module": "@jupyter-widgets/controls",
          "model_module_version": "1.5.0",
          "model_name": "HBoxModel",
          "state": {
            "_dom_classes": [],
            "_model_module": "@jupyter-widgets/controls",
            "_model_module_version": "1.5.0",
            "_model_name": "HBoxModel",
            "_view_count": null,
            "_view_module": "@jupyter-widgets/controls",
            "_view_module_version": "1.5.0",
            "_view_name": "HBoxView",
            "box_style": "",
            "children": [
              "IPY_MODEL_d21730e905d14a4da22eeab4841d0ec0",
              "IPY_MODEL_91ecfc3f1fe34513957f43a21666be0c",
              "IPY_MODEL_2574f4ed649b4c0ca8ef3e75549df10e"
            ],
            "layout": "IPY_MODEL_5ce87e3278594f3ca595a3e063b1df7a"
          }
        },
        "1aacb3b762de40e69213f29224a0675c": {
          "model_module": "@jupyter-widgets/controls",
          "model_module_version": "1.5.0",
          "model_name": "DescriptionStyleModel",
          "state": {
            "_model_module": "@jupyter-widgets/controls",
            "_model_module_version": "1.5.0",
            "_model_name": "DescriptionStyleModel",
            "_view_count": null,
            "_view_module": "@jupyter-widgets/base",
            "_view_module_version": "1.2.0",
            "_view_name": "StyleView",
            "description_width": ""
          }
        },
        "1cbb1d1a923043209ee82aa520cc4bb3": {
          "model_module": "@jupyter-widgets/base",
          "model_module_version": "1.2.0",
          "model_name": "LayoutModel",
          "state": {
            "_model_module": "@jupyter-widgets/base",
            "_model_module_version": "1.2.0",
            "_model_name": "LayoutModel",
            "_view_count": null,
            "_view_module": "@jupyter-widgets/base",
            "_view_module_version": "1.2.0",
            "_view_name": "LayoutView",
            "align_content": null,
            "align_items": null,
            "align_self": null,
            "border": null,
            "bottom": null,
            "display": null,
            "flex": null,
            "flex_flow": null,
            "grid_area": null,
            "grid_auto_columns": null,
            "grid_auto_flow": null,
            "grid_auto_rows": null,
            "grid_column": null,
            "grid_gap": null,
            "grid_row": null,
            "grid_template_areas": null,
            "grid_template_columns": null,
            "grid_template_rows": null,
            "height": null,
            "justify_content": null,
            "justify_items": null,
            "left": null,
            "margin": null,
            "max_height": null,
            "max_width": null,
            "min_height": null,
            "min_width": null,
            "object_fit": null,
            "object_position": null,
            "order": null,
            "overflow": null,
            "overflow_x": null,
            "overflow_y": null,
            "padding": null,
            "right": null,
            "top": null,
            "visibility": null,
            "width": null
          }
        },
        "2574f4ed649b4c0ca8ef3e75549df10e": {
          "model_module": "@jupyter-widgets/controls",
          "model_module_version": "1.5.0",
          "model_name": "HTMLModel",
          "state": {
            "_dom_classes": [],
            "_model_module": "@jupyter-widgets/controls",
            "_model_module_version": "1.5.0",
            "_model_name": "HTMLModel",
            "_view_count": null,
            "_view_module": "@jupyter-widgets/controls",
            "_view_module_version": "1.5.0",
            "_view_name": "HTMLView",
            "description": "",
            "description_tooltip": null,
            "layout": "IPY_MODEL_1cbb1d1a923043209ee82aa520cc4bb3",
            "placeholder": "​",
            "style": "IPY_MODEL_1aacb3b762de40e69213f29224a0675c",
            "value": " 7/7 [05:22&lt;00:00, 83.27s/it]"
          }
        },
        "2c32f566ba2444fab7f172101c985648": {
          "model_module": "@jupyter-widgets/controls",
          "model_module_version": "1.5.0",
          "model_name": "FloatProgressModel",
          "state": {
            "_dom_classes": [],
            "_model_module": "@jupyter-widgets/controls",
            "_model_module_version": "1.5.0",
            "_model_name": "FloatProgressModel",
            "_view_count": null,
            "_view_module": "@jupyter-widgets/controls",
            "_view_module_version": "1.5.0",
            "_view_name": "ProgressView",
            "bar_style": "success",
            "description": "",
            "description_tooltip": null,
            "layout": "IPY_MODEL_bf1318c47e4b4143b5e7ccb053fbf35a",
            "max": 20,
            "min": 0,
            "orientation": "horizontal",
            "style": "IPY_MODEL_c474d9d812154f0eb4eaa365635216a4",
            "value": 20
          }
        },
        "353f186485df4820974d42c68af16040": {
          "model_module": "@jupyter-widgets/base",
          "model_module_version": "1.2.0",
          "model_name": "LayoutModel",
          "state": {
            "_model_module": "@jupyter-widgets/base",
            "_model_module_version": "1.2.0",
            "_model_name": "LayoutModel",
            "_view_count": null,
            "_view_module": "@jupyter-widgets/base",
            "_view_module_version": "1.2.0",
            "_view_name": "LayoutView",
            "align_content": null,
            "align_items": null,
            "align_self": null,
            "border": null,
            "bottom": null,
            "display": null,
            "flex": null,
            "flex_flow": null,
            "grid_area": null,
            "grid_auto_columns": null,
            "grid_auto_flow": null,
            "grid_auto_rows": null,
            "grid_column": null,
            "grid_gap": null,
            "grid_row": null,
            "grid_template_areas": null,
            "grid_template_columns": null,
            "grid_template_rows": null,
            "height": null,
            "justify_content": null,
            "justify_items": null,
            "left": null,
            "margin": null,
            "max_height": null,
            "max_width": null,
            "min_height": null,
            "min_width": null,
            "object_fit": null,
            "object_position": null,
            "order": null,
            "overflow": null,
            "overflow_x": null,
            "overflow_y": null,
            "padding": null,
            "right": null,
            "top": null,
            "visibility": null,
            "width": null
          }
        },
        "3a4d62ea473d4849b4ecdef97626a3ef": {
          "model_module": "@jupyter-widgets/controls",
          "model_module_version": "1.5.0",
          "model_name": "HTMLModel",
          "state": {
            "_dom_classes": [],
            "_model_module": "@jupyter-widgets/controls",
            "_model_module_version": "1.5.0",
            "_model_name": "HTMLModel",
            "_view_count": null,
            "_view_module": "@jupyter-widgets/controls",
            "_view_module_version": "1.5.0",
            "_view_name": "HTMLView",
            "description": "",
            "description_tooltip": null,
            "layout": "IPY_MODEL_a7a158caa1224e7a8eac7437ed4cafad",
            "placeholder": "​",
            "style": "IPY_MODEL_0c00093c58b442b189f27ef7f8f5c801",
            "value": " 7/7 [16:55&lt;00:00, 278.36s/it]"
          }
        },
        "3dd49de9f5c344fa9c67df3b2954e521": {
          "model_module": "@jupyter-widgets/base",
          "model_module_version": "1.2.0",
          "model_name": "LayoutModel",
          "state": {
            "_model_module": "@jupyter-widgets/base",
            "_model_module_version": "1.2.0",
            "_model_name": "LayoutModel",
            "_view_count": null,
            "_view_module": "@jupyter-widgets/base",
            "_view_module_version": "1.2.0",
            "_view_name": "LayoutView",
            "align_content": null,
            "align_items": null,
            "align_self": null,
            "border": null,
            "bottom": null,
            "display": null,
            "flex": null,
            "flex_flow": null,
            "grid_area": null,
            "grid_auto_columns": null,
            "grid_auto_flow": null,
            "grid_auto_rows": null,
            "grid_column": null,
            "grid_gap": null,
            "grid_row": null,
            "grid_template_areas": null,
            "grid_template_columns": null,
            "grid_template_rows": null,
            "height": null,
            "justify_content": null,
            "justify_items": null,
            "left": null,
            "margin": null,
            "max_height": null,
            "max_width": null,
            "min_height": null,
            "min_width": null,
            "object_fit": null,
            "object_position": null,
            "order": null,
            "overflow": null,
            "overflow_x": null,
            "overflow_y": null,
            "padding": null,
            "right": null,
            "top": null,
            "visibility": null,
            "width": null
          }
        },
        "416db600e63a4657a0124e47c4a04cfa": {
          "model_module": "@jupyter-widgets/controls",
          "model_module_version": "1.5.0",
          "model_name": "HTMLModel",
          "state": {
            "_dom_classes": [],
            "_model_module": "@jupyter-widgets/controls",
            "_model_module_version": "1.5.0",
            "_model_name": "HTMLModel",
            "_view_count": null,
            "_view_module": "@jupyter-widgets/controls",
            "_view_module_version": "1.5.0",
            "_view_name": "HTMLView",
            "description": "",
            "description_tooltip": null,
            "layout": "IPY_MODEL_ec608a71d239480284419f102f08d790",
            "placeholder": "​",
            "style": "IPY_MODEL_4a362f2a5a67493d8090e5536abbf289",
            "value": " 20/20 [17:06&lt;00:00, 47.99s/it]"
          }
        },
        "44609f08b5424247998ea947a8882c8f": {
          "model_module": "@jupyter-widgets/controls",
          "model_module_version": "1.5.0",
          "model_name": "DescriptionStyleModel",
          "state": {
            "_model_module": "@jupyter-widgets/controls",
            "_model_module_version": "1.5.0",
            "_model_name": "DescriptionStyleModel",
            "_view_count": null,
            "_view_module": "@jupyter-widgets/base",
            "_view_module_version": "1.2.0",
            "_view_name": "StyleView",
            "description_width": ""
          }
        },
        "44c5a196b4f04eafa550179b4d727f3a": {
          "model_module": "@jupyter-widgets/controls",
          "model_module_version": "1.5.0",
          "model_name": "DescriptionStyleModel",
          "state": {
            "_model_module": "@jupyter-widgets/controls",
            "_model_module_version": "1.5.0",
            "_model_name": "DescriptionStyleModel",
            "_view_count": null,
            "_view_module": "@jupyter-widgets/base",
            "_view_module_version": "1.2.0",
            "_view_name": "StyleView",
            "description_width": ""
          }
        },
        "4a362f2a5a67493d8090e5536abbf289": {
          "model_module": "@jupyter-widgets/controls",
          "model_module_version": "1.5.0",
          "model_name": "DescriptionStyleModel",
          "state": {
            "_model_module": "@jupyter-widgets/controls",
            "_model_module_version": "1.5.0",
            "_model_name": "DescriptionStyleModel",
            "_view_count": null,
            "_view_module": "@jupyter-widgets/base",
            "_view_module_version": "1.2.0",
            "_view_name": "StyleView",
            "description_width": ""
          }
        },
        "5473242514eb4934a0ff96294e1cc116": {
          "model_module": "@jupyter-widgets/controls",
          "model_module_version": "1.5.0",
          "model_name": "DescriptionStyleModel",
          "state": {
            "_model_module": "@jupyter-widgets/controls",
            "_model_module_version": "1.5.0",
            "_model_name": "DescriptionStyleModel",
            "_view_count": null,
            "_view_module": "@jupyter-widgets/base",
            "_view_module_version": "1.2.0",
            "_view_name": "StyleView",
            "description_width": ""
          }
        },
        "5bc2325dc1fc41bdb82b9d2fb6d9d9bf": {
          "model_module": "@jupyter-widgets/controls",
          "model_module_version": "1.5.0",
          "model_name": "ProgressStyleModel",
          "state": {
            "_model_module": "@jupyter-widgets/controls",
            "_model_module_version": "1.5.0",
            "_model_name": "ProgressStyleModel",
            "_view_count": null,
            "_view_module": "@jupyter-widgets/base",
            "_view_module_version": "1.2.0",
            "_view_name": "StyleView",
            "bar_color": null,
            "description_width": ""
          }
        },
        "5ce87e3278594f3ca595a3e063b1df7a": {
          "model_module": "@jupyter-widgets/base",
          "model_module_version": "1.2.0",
          "model_name": "LayoutModel",
          "state": {
            "_model_module": "@jupyter-widgets/base",
            "_model_module_version": "1.2.0",
            "_model_name": "LayoutModel",
            "_view_count": null,
            "_view_module": "@jupyter-widgets/base",
            "_view_module_version": "1.2.0",
            "_view_name": "LayoutView",
            "align_content": null,
            "align_items": null,
            "align_self": null,
            "border": null,
            "bottom": null,
            "display": null,
            "flex": null,
            "flex_flow": null,
            "grid_area": null,
            "grid_auto_columns": null,
            "grid_auto_flow": null,
            "grid_auto_rows": null,
            "grid_column": null,
            "grid_gap": null,
            "grid_row": null,
            "grid_template_areas": null,
            "grid_template_columns": null,
            "grid_template_rows": null,
            "height": null,
            "justify_content": null,
            "justify_items": null,
            "left": null,
            "margin": null,
            "max_height": null,
            "max_width": null,
            "min_height": null,
            "min_width": null,
            "object_fit": null,
            "object_position": null,
            "order": null,
            "overflow": null,
            "overflow_x": null,
            "overflow_y": null,
            "padding": null,
            "right": null,
            "top": null,
            "visibility": null,
            "width": null
          }
        },
        "5e67095cd7514f91a21bf131b3e4d6a7": {
          "model_module": "@jupyter-widgets/controls",
          "model_module_version": "1.5.0",
          "model_name": "HTMLModel",
          "state": {
            "_dom_classes": [],
            "_model_module": "@jupyter-widgets/controls",
            "_model_module_version": "1.5.0",
            "_model_name": "HTMLModel",
            "_view_count": null,
            "_view_module": "@jupyter-widgets/controls",
            "_view_module_version": "1.5.0",
            "_view_name": "HTMLView",
            "description": "",
            "description_tooltip": null,
            "layout": "IPY_MODEL_3dd49de9f5c344fa9c67df3b2954e521",
            "placeholder": "​",
            "style": "IPY_MODEL_44c5a196b4f04eafa550179b4d727f3a",
            "value": "100%"
          }
        },
        "6a472e4334f9417488394401e0695895": {
          "model_module": "@jupyter-widgets/controls",
          "model_module_version": "1.5.0",
          "model_name": "ProgressStyleModel",
          "state": {
            "_model_module": "@jupyter-widgets/controls",
            "_model_module_version": "1.5.0",
            "_model_name": "ProgressStyleModel",
            "_view_count": null,
            "_view_module": "@jupyter-widgets/base",
            "_view_module_version": "1.2.0",
            "_view_name": "StyleView",
            "bar_color": null,
            "description_width": ""
          }
        },
        "6a7cbb3ce342437ea1956f98c365fc90": {
          "model_module": "@jupyter-widgets/controls",
          "model_module_version": "1.5.0",
          "model_name": "DescriptionStyleModel",
          "state": {
            "_model_module": "@jupyter-widgets/controls",
            "_model_module_version": "1.5.0",
            "_model_name": "DescriptionStyleModel",
            "_view_count": null,
            "_view_module": "@jupyter-widgets/base",
            "_view_module_version": "1.2.0",
            "_view_name": "StyleView",
            "description_width": ""
          }
        },
        "6ccae51160824f5c96d033b782810a6a": {
          "model_module": "@jupyter-widgets/controls",
          "model_module_version": "1.5.0",
          "model_name": "HTMLModel",
          "state": {
            "_dom_classes": [],
            "_model_module": "@jupyter-widgets/controls",
            "_model_module_version": "1.5.0",
            "_model_name": "HTMLModel",
            "_view_count": null,
            "_view_module": "@jupyter-widgets/controls",
            "_view_module_version": "1.5.0",
            "_view_name": "HTMLView",
            "description": "",
            "description_tooltip": null,
            "layout": "IPY_MODEL_8c343a69da9e4763a44fa336635d581e",
            "placeholder": "​",
            "style": "IPY_MODEL_6a7cbb3ce342437ea1956f98c365fc90",
            "value": " 20/20 [01:44&lt;00:00,  5.15s/it]"
          }
        },
        "723b5e5c42b24c958cbbcef8471d615f": {
          "model_module": "@jupyter-widgets/controls",
          "model_module_version": "1.5.0",
          "model_name": "ProgressStyleModel",
          "state": {
            "_model_module": "@jupyter-widgets/controls",
            "_model_module_version": "1.5.0",
            "_model_name": "ProgressStyleModel",
            "_view_count": null,
            "_view_module": "@jupyter-widgets/base",
            "_view_module_version": "1.2.0",
            "_view_name": "StyleView",
            "bar_color": null,
            "description_width": ""
          }
        },
        "7284479aa8914f0b8e827758fa227d55": {
          "model_module": "@jupyter-widgets/base",
          "model_module_version": "1.2.0",
          "model_name": "LayoutModel",
          "state": {
            "_model_module": "@jupyter-widgets/base",
            "_model_module_version": "1.2.0",
            "_model_name": "LayoutModel",
            "_view_count": null,
            "_view_module": "@jupyter-widgets/base",
            "_view_module_version": "1.2.0",
            "_view_name": "LayoutView",
            "align_content": null,
            "align_items": null,
            "align_self": null,
            "border": null,
            "bottom": null,
            "display": null,
            "flex": null,
            "flex_flow": null,
            "grid_area": null,
            "grid_auto_columns": null,
            "grid_auto_flow": null,
            "grid_auto_rows": null,
            "grid_column": null,
            "grid_gap": null,
            "grid_row": null,
            "grid_template_areas": null,
            "grid_template_columns": null,
            "grid_template_rows": null,
            "height": null,
            "justify_content": null,
            "justify_items": null,
            "left": null,
            "margin": null,
            "max_height": null,
            "max_width": null,
            "min_height": null,
            "min_width": null,
            "object_fit": null,
            "object_position": null,
            "order": null,
            "overflow": null,
            "overflow_x": null,
            "overflow_y": null,
            "padding": null,
            "right": null,
            "top": null,
            "visibility": null,
            "width": null
          }
        },
        "746c26fa749b490abcc35757bbd87733": {
          "model_module": "@jupyter-widgets/base",
          "model_module_version": "1.2.0",
          "model_name": "LayoutModel",
          "state": {
            "_model_module": "@jupyter-widgets/base",
            "_model_module_version": "1.2.0",
            "_model_name": "LayoutModel",
            "_view_count": null,
            "_view_module": "@jupyter-widgets/base",
            "_view_module_version": "1.2.0",
            "_view_name": "LayoutView",
            "align_content": null,
            "align_items": null,
            "align_self": null,
            "border": null,
            "bottom": null,
            "display": null,
            "flex": null,
            "flex_flow": null,
            "grid_area": null,
            "grid_auto_columns": null,
            "grid_auto_flow": null,
            "grid_auto_rows": null,
            "grid_column": null,
            "grid_gap": null,
            "grid_row": null,
            "grid_template_areas": null,
            "grid_template_columns": null,
            "grid_template_rows": null,
            "height": null,
            "justify_content": null,
            "justify_items": null,
            "left": null,
            "margin": null,
            "max_height": null,
            "max_width": null,
            "min_height": null,
            "min_width": null,
            "object_fit": null,
            "object_position": null,
            "order": null,
            "overflow": null,
            "overflow_x": null,
            "overflow_y": null,
            "padding": null,
            "right": null,
            "top": null,
            "visibility": null,
            "width": null
          }
        },
        "80ff671a781c4a409f2fc9c5a3fa59f6": {
          "model_module": "@jupyter-widgets/base",
          "model_module_version": "1.2.0",
          "model_name": "LayoutModel",
          "state": {
            "_model_module": "@jupyter-widgets/base",
            "_model_module_version": "1.2.0",
            "_model_name": "LayoutModel",
            "_view_count": null,
            "_view_module": "@jupyter-widgets/base",
            "_view_module_version": "1.2.0",
            "_view_name": "LayoutView",
            "align_content": null,
            "align_items": null,
            "align_self": null,
            "border": null,
            "bottom": null,
            "display": null,
            "flex": null,
            "flex_flow": null,
            "grid_area": null,
            "grid_auto_columns": null,
            "grid_auto_flow": null,
            "grid_auto_rows": null,
            "grid_column": null,
            "grid_gap": null,
            "grid_row": null,
            "grid_template_areas": null,
            "grid_template_columns": null,
            "grid_template_rows": null,
            "height": null,
            "justify_content": null,
            "justify_items": null,
            "left": null,
            "margin": null,
            "max_height": null,
            "max_width": null,
            "min_height": null,
            "min_width": null,
            "object_fit": null,
            "object_position": null,
            "order": null,
            "overflow": null,
            "overflow_x": null,
            "overflow_y": null,
            "padding": null,
            "right": null,
            "top": null,
            "visibility": null,
            "width": null
          }
        },
        "89c3e6280e374b73814c083d06fc2738": {
          "model_module": "@jupyter-widgets/controls",
          "model_module_version": "1.5.0",
          "model_name": "HBoxModel",
          "state": {
            "_dom_classes": [],
            "_model_module": "@jupyter-widgets/controls",
            "_model_module_version": "1.5.0",
            "_model_name": "HBoxModel",
            "_view_count": null,
            "_view_module": "@jupyter-widgets/controls",
            "_view_module_version": "1.5.0",
            "_view_name": "HBoxView",
            "box_style": "",
            "children": [
              "IPY_MODEL_5e67095cd7514f91a21bf131b3e4d6a7",
              "IPY_MODEL_a76e60500aff487a8386cc7d008a9205",
              "IPY_MODEL_3a4d62ea473d4849b4ecdef97626a3ef"
            ],
            "layout": "IPY_MODEL_f4c1909b26f44b9fa7044177c37d7a6a"
          }
        },
        "8c343a69da9e4763a44fa336635d581e": {
          "model_module": "@jupyter-widgets/base",
          "model_module_version": "1.2.0",
          "model_name": "LayoutModel",
          "state": {
            "_model_module": "@jupyter-widgets/base",
            "_model_module_version": "1.2.0",
            "_model_name": "LayoutModel",
            "_view_count": null,
            "_view_module": "@jupyter-widgets/base",
            "_view_module_version": "1.2.0",
            "_view_name": "LayoutView",
            "align_content": null,
            "align_items": null,
            "align_self": null,
            "border": null,
            "bottom": null,
            "display": null,
            "flex": null,
            "flex_flow": null,
            "grid_area": null,
            "grid_auto_columns": null,
            "grid_auto_flow": null,
            "grid_auto_rows": null,
            "grid_column": null,
            "grid_gap": null,
            "grid_row": null,
            "grid_template_areas": null,
            "grid_template_columns": null,
            "grid_template_rows": null,
            "height": null,
            "justify_content": null,
            "justify_items": null,
            "left": null,
            "margin": null,
            "max_height": null,
            "max_width": null,
            "min_height": null,
            "min_width": null,
            "object_fit": null,
            "object_position": null,
            "order": null,
            "overflow": null,
            "overflow_x": null,
            "overflow_y": null,
            "padding": null,
            "right": null,
            "top": null,
            "visibility": null,
            "width": null
          }
        },
        "903eddf0188f476690585d8251514265": {
          "model_module": "@jupyter-widgets/controls",
          "model_module_version": "1.5.0",
          "model_name": "HTMLModel",
          "state": {
            "_dom_classes": [],
            "_model_module": "@jupyter-widgets/controls",
            "_model_module_version": "1.5.0",
            "_model_name": "HTMLModel",
            "_view_count": null,
            "_view_module": "@jupyter-widgets/controls",
            "_view_module_version": "1.5.0",
            "_view_name": "HTMLView",
            "description": "",
            "description_tooltip": null,
            "layout": "IPY_MODEL_dd4a8c8d39bc40bc87070222d426443d",
            "placeholder": "​",
            "style": "IPY_MODEL_13b6f5156d9a40a097d0940ed8813ed2",
            "value": "100%"
          }
        },
        "91ecfc3f1fe34513957f43a21666be0c": {
          "model_module": "@jupyter-widgets/controls",
          "model_module_version": "1.5.0",
          "model_name": "FloatProgressModel",
          "state": {
            "_dom_classes": [],
            "_model_module": "@jupyter-widgets/controls",
            "_model_module_version": "1.5.0",
            "_model_name": "FloatProgressModel",
            "_view_count": null,
            "_view_module": "@jupyter-widgets/controls",
            "_view_module_version": "1.5.0",
            "_view_name": "ProgressView",
            "bar_style": "success",
            "description": "",
            "description_tooltip": null,
            "layout": "IPY_MODEL_7284479aa8914f0b8e827758fa227d55",
            "max": 7,
            "min": 0,
            "orientation": "horizontal",
            "style": "IPY_MODEL_723b5e5c42b24c958cbbcef8471d615f",
            "value": 7
          }
        },
        "923797260e304b308829c42688da436a": {
          "model_module": "@jupyter-widgets/controls",
          "model_module_version": "1.5.0",
          "model_name": "HBoxModel",
          "state": {
            "_dom_classes": [],
            "_model_module": "@jupyter-widgets/controls",
            "_model_module_version": "1.5.0",
            "_model_name": "HBoxModel",
            "_view_count": null,
            "_view_module": "@jupyter-widgets/controls",
            "_view_module_version": "1.5.0",
            "_view_name": "HBoxView",
            "box_style": "",
            "children": [
              "IPY_MODEL_903eddf0188f476690585d8251514265",
              "IPY_MODEL_2c32f566ba2444fab7f172101c985648",
              "IPY_MODEL_416db600e63a4657a0124e47c4a04cfa"
            ],
            "layout": "IPY_MODEL_80ff671a781c4a409f2fc9c5a3fa59f6"
          }
        },
        "a76e60500aff487a8386cc7d008a9205": {
          "model_module": "@jupyter-widgets/controls",
          "model_module_version": "1.5.0",
          "model_name": "FloatProgressModel",
          "state": {
            "_dom_classes": [],
            "_model_module": "@jupyter-widgets/controls",
            "_model_module_version": "1.5.0",
            "_model_name": "FloatProgressModel",
            "_view_count": null,
            "_view_module": "@jupyter-widgets/controls",
            "_view_module_version": "1.5.0",
            "_view_name": "ProgressView",
            "bar_style": "success",
            "description": "",
            "description_tooltip": null,
            "layout": "IPY_MODEL_edfde0e2d4f845b087d024d6d37f7cf1",
            "max": 7,
            "min": 0,
            "orientation": "horizontal",
            "style": "IPY_MODEL_6a472e4334f9417488394401e0695895",
            "value": 7
          }
        },
        "a7a158caa1224e7a8eac7437ed4cafad": {
          "model_module": "@jupyter-widgets/base",
          "model_module_version": "1.2.0",
          "model_name": "LayoutModel",
          "state": {
            "_model_module": "@jupyter-widgets/base",
            "_model_module_version": "1.2.0",
            "_model_name": "LayoutModel",
            "_view_count": null,
            "_view_module": "@jupyter-widgets/base",
            "_view_module_version": "1.2.0",
            "_view_name": "LayoutView",
            "align_content": null,
            "align_items": null,
            "align_self": null,
            "border": null,
            "bottom": null,
            "display": null,
            "flex": null,
            "flex_flow": null,
            "grid_area": null,
            "grid_auto_columns": null,
            "grid_auto_flow": null,
            "grid_auto_rows": null,
            "grid_column": null,
            "grid_gap": null,
            "grid_row": null,
            "grid_template_areas": null,
            "grid_template_columns": null,
            "grid_template_rows": null,
            "height": null,
            "justify_content": null,
            "justify_items": null,
            "left": null,
            "margin": null,
            "max_height": null,
            "max_width": null,
            "min_height": null,
            "min_width": null,
            "object_fit": null,
            "object_position": null,
            "order": null,
            "overflow": null,
            "overflow_x": null,
            "overflow_y": null,
            "padding": null,
            "right": null,
            "top": null,
            "visibility": null,
            "width": null
          }
        },
        "bf1318c47e4b4143b5e7ccb053fbf35a": {
          "model_module": "@jupyter-widgets/base",
          "model_module_version": "1.2.0",
          "model_name": "LayoutModel",
          "state": {
            "_model_module": "@jupyter-widgets/base",
            "_model_module_version": "1.2.0",
            "_model_name": "LayoutModel",
            "_view_count": null,
            "_view_module": "@jupyter-widgets/base",
            "_view_module_version": "1.2.0",
            "_view_name": "LayoutView",
            "align_content": null,
            "align_items": null,
            "align_self": null,
            "border": null,
            "bottom": null,
            "display": null,
            "flex": null,
            "flex_flow": null,
            "grid_area": null,
            "grid_auto_columns": null,
            "grid_auto_flow": null,
            "grid_auto_rows": null,
            "grid_column": null,
            "grid_gap": null,
            "grid_row": null,
            "grid_template_areas": null,
            "grid_template_columns": null,
            "grid_template_rows": null,
            "height": null,
            "justify_content": null,
            "justify_items": null,
            "left": null,
            "margin": null,
            "max_height": null,
            "max_width": null,
            "min_height": null,
            "min_width": null,
            "object_fit": null,
            "object_position": null,
            "order": null,
            "overflow": null,
            "overflow_x": null,
            "overflow_y": null,
            "padding": null,
            "right": null,
            "top": null,
            "visibility": null,
            "width": null
          }
        },
        "c474d9d812154f0eb4eaa365635216a4": {
          "model_module": "@jupyter-widgets/controls",
          "model_module_version": "1.5.0",
          "model_name": "ProgressStyleModel",
          "state": {
            "_model_module": "@jupyter-widgets/controls",
            "_model_module_version": "1.5.0",
            "_model_name": "ProgressStyleModel",
            "_view_count": null,
            "_view_module": "@jupyter-widgets/base",
            "_view_module_version": "1.2.0",
            "_view_name": "StyleView",
            "bar_color": null,
            "description_width": ""
          }
        },
        "cdabccf6e487431588d36ce39f4fbfb7": {
          "model_module": "@jupyter-widgets/controls",
          "model_module_version": "1.5.0",
          "model_name": "HTMLModel",
          "state": {
            "_dom_classes": [],
            "_model_module": "@jupyter-widgets/controls",
            "_model_module_version": "1.5.0",
            "_model_name": "HTMLModel",
            "_view_count": null,
            "_view_module": "@jupyter-widgets/controls",
            "_view_module_version": "1.5.0",
            "_view_name": "HTMLView",
            "description": "",
            "description_tooltip": null,
            "layout": "IPY_MODEL_dc2815ff5b9d4b4d801dac2bc961cfe6",
            "placeholder": "​",
            "style": "IPY_MODEL_5473242514eb4934a0ff96294e1cc116",
            "value": "100%"
          }
        },
        "d21730e905d14a4da22eeab4841d0ec0": {
          "model_module": "@jupyter-widgets/controls",
          "model_module_version": "1.5.0",
          "model_name": "HTMLModel",
          "state": {
            "_dom_classes": [],
            "_model_module": "@jupyter-widgets/controls",
            "_model_module_version": "1.5.0",
            "_model_name": "HTMLModel",
            "_view_count": null,
            "_view_module": "@jupyter-widgets/controls",
            "_view_module_version": "1.5.0",
            "_view_name": "HTMLView",
            "description": "",
            "description_tooltip": null,
            "layout": "IPY_MODEL_f3c6ba8484c548a097b97e8841d44658",
            "placeholder": "​",
            "style": "IPY_MODEL_44609f08b5424247998ea947a8882c8f",
            "value": "100%"
          }
        },
        "dc2815ff5b9d4b4d801dac2bc961cfe6": {
          "model_module": "@jupyter-widgets/base",
          "model_module_version": "1.2.0",
          "model_name": "LayoutModel",
          "state": {
            "_model_module": "@jupyter-widgets/base",
            "_model_module_version": "1.2.0",
            "_model_name": "LayoutModel",
            "_view_count": null,
            "_view_module": "@jupyter-widgets/base",
            "_view_module_version": "1.2.0",
            "_view_name": "LayoutView",
            "align_content": null,
            "align_items": null,
            "align_self": null,
            "border": null,
            "bottom": null,
            "display": null,
            "flex": null,
            "flex_flow": null,
            "grid_area": null,
            "grid_auto_columns": null,
            "grid_auto_flow": null,
            "grid_auto_rows": null,
            "grid_column": null,
            "grid_gap": null,
            "grid_row": null,
            "grid_template_areas": null,
            "grid_template_columns": null,
            "grid_template_rows": null,
            "height": null,
            "justify_content": null,
            "justify_items": null,
            "left": null,
            "margin": null,
            "max_height": null,
            "max_width": null,
            "min_height": null,
            "min_width": null,
            "object_fit": null,
            "object_position": null,
            "order": null,
            "overflow": null,
            "overflow_x": null,
            "overflow_y": null,
            "padding": null,
            "right": null,
            "top": null,
            "visibility": null,
            "width": null
          }
        },
        "dd4a8c8d39bc40bc87070222d426443d": {
          "model_module": "@jupyter-widgets/base",
          "model_module_version": "1.2.0",
          "model_name": "LayoutModel",
          "state": {
            "_model_module": "@jupyter-widgets/base",
            "_model_module_version": "1.2.0",
            "_model_name": "LayoutModel",
            "_view_count": null,
            "_view_module": "@jupyter-widgets/base",
            "_view_module_version": "1.2.0",
            "_view_name": "LayoutView",
            "align_content": null,
            "align_items": null,
            "align_self": null,
            "border": null,
            "bottom": null,
            "display": null,
            "flex": null,
            "flex_flow": null,
            "grid_area": null,
            "grid_auto_columns": null,
            "grid_auto_flow": null,
            "grid_auto_rows": null,
            "grid_column": null,
            "grid_gap": null,
            "grid_row": null,
            "grid_template_areas": null,
            "grid_template_columns": null,
            "grid_template_rows": null,
            "height": null,
            "justify_content": null,
            "justify_items": null,
            "left": null,
            "margin": null,
            "max_height": null,
            "max_width": null,
            "min_height": null,
            "min_width": null,
            "object_fit": null,
            "object_position": null,
            "order": null,
            "overflow": null,
            "overflow_x": null,
            "overflow_y": null,
            "padding": null,
            "right": null,
            "top": null,
            "visibility": null,
            "width": null
          }
        },
        "ec608a71d239480284419f102f08d790": {
          "model_module": "@jupyter-widgets/base",
          "model_module_version": "1.2.0",
          "model_name": "LayoutModel",
          "state": {
            "_model_module": "@jupyter-widgets/base",
            "_model_module_version": "1.2.0",
            "_model_name": "LayoutModel",
            "_view_count": null,
            "_view_module": "@jupyter-widgets/base",
            "_view_module_version": "1.2.0",
            "_view_name": "LayoutView",
            "align_content": null,
            "align_items": null,
            "align_self": null,
            "border": null,
            "bottom": null,
            "display": null,
            "flex": null,
            "flex_flow": null,
            "grid_area": null,
            "grid_auto_columns": null,
            "grid_auto_flow": null,
            "grid_auto_rows": null,
            "grid_column": null,
            "grid_gap": null,
            "grid_row": null,
            "grid_template_areas": null,
            "grid_template_columns": null,
            "grid_template_rows": null,
            "height": null,
            "justify_content": null,
            "justify_items": null,
            "left": null,
            "margin": null,
            "max_height": null,
            "max_width": null,
            "min_height": null,
            "min_width": null,
            "object_fit": null,
            "object_position": null,
            "order": null,
            "overflow": null,
            "overflow_x": null,
            "overflow_y": null,
            "padding": null,
            "right": null,
            "top": null,
            "visibility": null,
            "width": null
          }
        },
        "edfde0e2d4f845b087d024d6d37f7cf1": {
          "model_module": "@jupyter-widgets/base",
          "model_module_version": "1.2.0",
          "model_name": "LayoutModel",
          "state": {
            "_model_module": "@jupyter-widgets/base",
            "_model_module_version": "1.2.0",
            "_model_name": "LayoutModel",
            "_view_count": null,
            "_view_module": "@jupyter-widgets/base",
            "_view_module_version": "1.2.0",
            "_view_name": "LayoutView",
            "align_content": null,
            "align_items": null,
            "align_self": null,
            "border": null,
            "bottom": null,
            "display": null,
            "flex": null,
            "flex_flow": null,
            "grid_area": null,
            "grid_auto_columns": null,
            "grid_auto_flow": null,
            "grid_auto_rows": null,
            "grid_column": null,
            "grid_gap": null,
            "grid_row": null,
            "grid_template_areas": null,
            "grid_template_columns": null,
            "grid_template_rows": null,
            "height": null,
            "justify_content": null,
            "justify_items": null,
            "left": null,
            "margin": null,
            "max_height": null,
            "max_width": null,
            "min_height": null,
            "min_width": null,
            "object_fit": null,
            "object_position": null,
            "order": null,
            "overflow": null,
            "overflow_x": null,
            "overflow_y": null,
            "padding": null,
            "right": null,
            "top": null,
            "visibility": null,
            "width": null
          }
        },
        "f3c6ba8484c548a097b97e8841d44658": {
          "model_module": "@jupyter-widgets/base",
          "model_module_version": "1.2.0",
          "model_name": "LayoutModel",
          "state": {
            "_model_module": "@jupyter-widgets/base",
            "_model_module_version": "1.2.0",
            "_model_name": "LayoutModel",
            "_view_count": null,
            "_view_module": "@jupyter-widgets/base",
            "_view_module_version": "1.2.0",
            "_view_name": "LayoutView",
            "align_content": null,
            "align_items": null,
            "align_self": null,
            "border": null,
            "bottom": null,
            "display": null,
            "flex": null,
            "flex_flow": null,
            "grid_area": null,
            "grid_auto_columns": null,
            "grid_auto_flow": null,
            "grid_auto_rows": null,
            "grid_column": null,
            "grid_gap": null,
            "grid_row": null,
            "grid_template_areas": null,
            "grid_template_columns": null,
            "grid_template_rows": null,
            "height": null,
            "justify_content": null,
            "justify_items": null,
            "left": null,
            "margin": null,
            "max_height": null,
            "max_width": null,
            "min_height": null,
            "min_width": null,
            "object_fit": null,
            "object_position": null,
            "order": null,
            "overflow": null,
            "overflow_x": null,
            "overflow_y": null,
            "padding": null,
            "right": null,
            "top": null,
            "visibility": null,
            "width": null
          }
        },
        "f4c1909b26f44b9fa7044177c37d7a6a": {
          "model_module": "@jupyter-widgets/base",
          "model_module_version": "1.2.0",
          "model_name": "LayoutModel",
          "state": {
            "_model_module": "@jupyter-widgets/base",
            "_model_module_version": "1.2.0",
            "_model_name": "LayoutModel",
            "_view_count": null,
            "_view_module": "@jupyter-widgets/base",
            "_view_module_version": "1.2.0",
            "_view_name": "LayoutView",
            "align_content": null,
            "align_items": null,
            "align_self": null,
            "border": null,
            "bottom": null,
            "display": null,
            "flex": null,
            "flex_flow": null,
            "grid_area": null,
            "grid_auto_columns": null,
            "grid_auto_flow": null,
            "grid_auto_rows": null,
            "grid_column": null,
            "grid_gap": null,
            "grid_row": null,
            "grid_template_areas": null,
            "grid_template_columns": null,
            "grid_template_rows": null,
            "height": null,
            "justify_content": null,
            "justify_items": null,
            "left": null,
            "margin": null,
            "max_height": null,
            "max_width": null,
            "min_height": null,
            "min_width": null,
            "object_fit": null,
            "object_position": null,
            "order": null,
            "overflow": null,
            "overflow_x": null,
            "overflow_y": null,
            "padding": null,
            "right": null,
            "top": null,
            "visibility": null,
            "width": null
          }
        },
        "f5795fe3890d44298967b11407a9b620": {
          "model_module": "@jupyter-widgets/controls",
          "model_module_version": "1.5.0",
          "model_name": "FloatProgressModel",
          "state": {
            "_dom_classes": [],
            "_model_module": "@jupyter-widgets/controls",
            "_model_module_version": "1.5.0",
            "_model_name": "FloatProgressModel",
            "_view_count": null,
            "_view_module": "@jupyter-widgets/controls",
            "_view_module_version": "1.5.0",
            "_view_name": "ProgressView",
            "bar_style": "success",
            "description": "",
            "description_tooltip": null,
            "layout": "IPY_MODEL_746c26fa749b490abcc35757bbd87733",
            "max": 20,
            "min": 0,
            "orientation": "horizontal",
            "style": "IPY_MODEL_5bc2325dc1fc41bdb82b9d2fb6d9d9bf",
            "value": 20
          }
        }
      }
    }
  },
  "nbformat": 4,
  "nbformat_minor": 5
}
